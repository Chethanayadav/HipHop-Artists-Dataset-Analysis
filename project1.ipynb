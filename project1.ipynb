{
  "nbformat": 4,
  "nbformat_minor": 0,
  "metadata": {
    "colab": {
      "provenance": [],
      "authorship_tag": "ABX9TyPSj0DmIeatE+npeFQnAX2v",
      "include_colab_link": true
    },
    "kernelspec": {
      "name": "python3",
      "display_name": "Python 3"
    },
    "language_info": {
      "name": "python"
    }
  },
  "cells": [
    {
      "cell_type": "markdown",
      "metadata": {
        "id": "view-in-github",
        "colab_type": "text"
      },
      "source": [
        "<a href=\"https://colab.research.google.com/github/Chethanayadav/HipHop-Artists-Dataset-Analysis/blob/main/project1.ipynb\" target=\"_parent\"><img src=\"https://colab.research.google.com/assets/colab-badge.svg\" alt=\"Open In Colab\"/></a>"
      ]
    },
    {
      "cell_type": "code",
      "execution_count": null,
      "metadata": {
        "id": "wNUrgHm25Hmw"
      },
      "outputs": [],
      "source": []
    },
    {
      "cell_type": "markdown",
      "source": [
        "#Project Title:HipHop Artists Dataset Analysis"
      ],
      "metadata": {
        "id": "PqdiOSlF5Vyu"
      }
    },
    {
      "cell_type": "markdown",
      "source": [],
      "metadata": {
        "id": "hy4NY7LP5UiV"
      }
    },
    {
      "cell_type": "markdown",
      "source": [
        "##Purpose\n",
        "The purpose of analyzing a dataset on hip-hop artists could be to gain insights into trends, themes, and patterns within the hip-hop industry. This analysis can inform various stakeholders such as music producers, marketers, and researchers about the evolution of hip-hop, audience preferences, and potential areas for innovation or investment."
      ],
      "metadata": {
        "id": "kqthDJwr5jKS"
      }
    },
    {
      "cell_type": "markdown",
      "source": [
        "##Step 1: Import the Necessary Packages"
      ],
      "metadata": {
        "id": "lwHNT_0_58oM"
      }
    },
    {
      "cell_type": "code",
      "source": [
        "# Importing the necessary packages for data manipulation and visualisation\n",
        "\n",
        "import pandas as pd # Data Manipulation\n",
        "import matplotlib.pyplot as plt # Data Visualisation"
      ],
      "metadata": {
        "id": "fkfptsnl6IZG"
      },
      "execution_count": 1,
      "outputs": []
    },
    {
      "cell_type": "markdown",
      "source": [
        "##Step 2: Loading the files from the local system to the Notebook"
      ],
      "metadata": {
        "id": "ZvnqxrxG6SQa"
      }
    },
    {
      "cell_type": "markdown",
      "source": [],
      "metadata": {
        "id": "d6PBxgOt6YVG"
      }
    },
    {
      "cell_type": "code",
      "source": [
        "# Load the files\n",
        "data = pd.read_csv('/top_hiphop_artists_tracks.csv') # Function to read the CSV file from the File path.\n",
        "print(data)"
      ],
      "metadata": {
        "colab": {
          "base_uri": "https://localhost:8080/"
        },
        "id": "2y3L-BdW6ZQV",
        "outputId": "f38223c4-cbdc-4d28-cd6b-1cc859da2f2a"
      },
      "execution_count": 6,
      "outputs": [
        {
          "output_type": "stream",
          "name": "stdout",
          "text": [
            "             Artist                                         Track Name  \\\n",
            "0             Drake            Rich Baby Daddy (feat. Sexyy Red & SZA)   \n",
            "1             Drake                                          One Dance   \n",
            "2             Drake                                 IDGAF (feat. Yeat)   \n",
            "3             Drake               First Person Shooter (feat. J. Cole)   \n",
            "4             Drake                      Jimmy Cooks (feat. 21 Savage)   \n",
            "..              ...                                                ...   \n",
            "435  French Montana                                    Splash Brothers   \n",
            "436         Fat Joe                     All The Way Up (feat. Infared)   \n",
            "437       A$AP Ferg  Work REMIX (feat. A$AP Rocky, French Montana, ...   \n",
            "438           Diddy                Another One Of Me (feat. 21 Savage)   \n",
            "439       Rick Ross                                       Stay Schemin   \n",
            "\n",
            "     Popularity  Duration (ms)                Track ID  \n",
            "0            92         319191  1yeB8MUNeLo9Ek1UEpsyz6  \n",
            "1            91         173986  1zi7xx7UVEFkmKfv06H8x0  \n",
            "2            90         260111  2YSzYUF3jWqb9YP9VXmpjE  \n",
            "3            88         247444  7aqfrAY2p9BUSiupwk3svU  \n",
            "4            88         218364  3F5CgOj3wFlRv51JsHbxhe  \n",
            "..          ...            ...                     ...  \n",
            "435          44         221863  3fBsEOnzwtlkpS0LxXAZhN  \n",
            "436          64         191900  7Ezwtgfw7khBrpvaNPtMoT  \n",
            "437          69         283693  7xVLFuuYdAvcTfcP3IG3dS  \n",
            "438          65         220408  4hGmQboiou09EwhcTWa0H6  \n",
            "439          68         267720  0nq6sfr8z1R5KJ4XUk396e  \n",
            "\n",
            "[440 rows x 5 columns]\n"
          ]
        }
      ]
    },
    {
      "cell_type": "markdown",
      "source": [
        "##Step 3: Data View"
      ],
      "metadata": {
        "id": "0667mBaa-kOQ"
      }
    },
    {
      "cell_type": "markdown",
      "source": [],
      "metadata": {
        "id": "K9Sp50dO-myR"
      }
    },
    {
      "cell_type": "code",
      "source": [
        "data.head() # Prints the first 5 rows of the dataset"
      ],
      "metadata": {
        "colab": {
          "base_uri": "https://localhost:8080/",
          "height": 206
        },
        "id": "ItkJ86Ei-oB-",
        "outputId": "1bf7e200-4296-4741-ffde-d08fe98be3f5"
      },
      "execution_count": 7,
      "outputs": [
        {
          "output_type": "execute_result",
          "data": {
            "text/plain": [
              "  Artist                               Track Name  Popularity  Duration (ms)  \\\n",
              "0  Drake  Rich Baby Daddy (feat. Sexyy Red & SZA)          92         319191   \n",
              "1  Drake                                One Dance          91         173986   \n",
              "2  Drake                       IDGAF (feat. Yeat)          90         260111   \n",
              "3  Drake     First Person Shooter (feat. J. Cole)          88         247444   \n",
              "4  Drake            Jimmy Cooks (feat. 21 Savage)          88         218364   \n",
              "\n",
              "                 Track ID  \n",
              "0  1yeB8MUNeLo9Ek1UEpsyz6  \n",
              "1  1zi7xx7UVEFkmKfv06H8x0  \n",
              "2  2YSzYUF3jWqb9YP9VXmpjE  \n",
              "3  7aqfrAY2p9BUSiupwk3svU  \n",
              "4  3F5CgOj3wFlRv51JsHbxhe  "
            ],
            "text/html": [
              "\n",
              "  <div id=\"df-d9618278-5fa4-4e12-af5b-0f2ce14af79d\" class=\"colab-df-container\">\n",
              "    <div>\n",
              "<style scoped>\n",
              "    .dataframe tbody tr th:only-of-type {\n",
              "        vertical-align: middle;\n",
              "    }\n",
              "\n",
              "    .dataframe tbody tr th {\n",
              "        vertical-align: top;\n",
              "    }\n",
              "\n",
              "    .dataframe thead th {\n",
              "        text-align: right;\n",
              "    }\n",
              "</style>\n",
              "<table border=\"1\" class=\"dataframe\">\n",
              "  <thead>\n",
              "    <tr style=\"text-align: right;\">\n",
              "      <th></th>\n",
              "      <th>Artist</th>\n",
              "      <th>Track Name</th>\n",
              "      <th>Popularity</th>\n",
              "      <th>Duration (ms)</th>\n",
              "      <th>Track ID</th>\n",
              "    </tr>\n",
              "  </thead>\n",
              "  <tbody>\n",
              "    <tr>\n",
              "      <th>0</th>\n",
              "      <td>Drake</td>\n",
              "      <td>Rich Baby Daddy (feat. Sexyy Red &amp; SZA)</td>\n",
              "      <td>92</td>\n",
              "      <td>319191</td>\n",
              "      <td>1yeB8MUNeLo9Ek1UEpsyz6</td>\n",
              "    </tr>\n",
              "    <tr>\n",
              "      <th>1</th>\n",
              "      <td>Drake</td>\n",
              "      <td>One Dance</td>\n",
              "      <td>91</td>\n",
              "      <td>173986</td>\n",
              "      <td>1zi7xx7UVEFkmKfv06H8x0</td>\n",
              "    </tr>\n",
              "    <tr>\n",
              "      <th>2</th>\n",
              "      <td>Drake</td>\n",
              "      <td>IDGAF (feat. Yeat)</td>\n",
              "      <td>90</td>\n",
              "      <td>260111</td>\n",
              "      <td>2YSzYUF3jWqb9YP9VXmpjE</td>\n",
              "    </tr>\n",
              "    <tr>\n",
              "      <th>3</th>\n",
              "      <td>Drake</td>\n",
              "      <td>First Person Shooter (feat. J. Cole)</td>\n",
              "      <td>88</td>\n",
              "      <td>247444</td>\n",
              "      <td>7aqfrAY2p9BUSiupwk3svU</td>\n",
              "    </tr>\n",
              "    <tr>\n",
              "      <th>4</th>\n",
              "      <td>Drake</td>\n",
              "      <td>Jimmy Cooks (feat. 21 Savage)</td>\n",
              "      <td>88</td>\n",
              "      <td>218364</td>\n",
              "      <td>3F5CgOj3wFlRv51JsHbxhe</td>\n",
              "    </tr>\n",
              "  </tbody>\n",
              "</table>\n",
              "</div>\n",
              "    <div class=\"colab-df-buttons\">\n",
              "\n",
              "  <div class=\"colab-df-container\">\n",
              "    <button class=\"colab-df-convert\" onclick=\"convertToInteractive('df-d9618278-5fa4-4e12-af5b-0f2ce14af79d')\"\n",
              "            title=\"Convert this dataframe to an interactive table.\"\n",
              "            style=\"display:none;\">\n",
              "\n",
              "  <svg xmlns=\"http://www.w3.org/2000/svg\" height=\"24px\" viewBox=\"0 -960 960 960\">\n",
              "    <path d=\"M120-120v-720h720v720H120Zm60-500h600v-160H180v160Zm220 220h160v-160H400v160Zm0 220h160v-160H400v160ZM180-400h160v-160H180v160Zm440 0h160v-160H620v160ZM180-180h160v-160H180v160Zm440 0h160v-160H620v160Z\"/>\n",
              "  </svg>\n",
              "    </button>\n",
              "\n",
              "  <style>\n",
              "    .colab-df-container {\n",
              "      display:flex;\n",
              "      gap: 12px;\n",
              "    }\n",
              "\n",
              "    .colab-df-convert {\n",
              "      background-color: #E8F0FE;\n",
              "      border: none;\n",
              "      border-radius: 50%;\n",
              "      cursor: pointer;\n",
              "      display: none;\n",
              "      fill: #1967D2;\n",
              "      height: 32px;\n",
              "      padding: 0 0 0 0;\n",
              "      width: 32px;\n",
              "    }\n",
              "\n",
              "    .colab-df-convert:hover {\n",
              "      background-color: #E2EBFA;\n",
              "      box-shadow: 0px 1px 2px rgba(60, 64, 67, 0.3), 0px 1px 3px 1px rgba(60, 64, 67, 0.15);\n",
              "      fill: #174EA6;\n",
              "    }\n",
              "\n",
              "    .colab-df-buttons div {\n",
              "      margin-bottom: 4px;\n",
              "    }\n",
              "\n",
              "    [theme=dark] .colab-df-convert {\n",
              "      background-color: #3B4455;\n",
              "      fill: #D2E3FC;\n",
              "    }\n",
              "\n",
              "    [theme=dark] .colab-df-convert:hover {\n",
              "      background-color: #434B5C;\n",
              "      box-shadow: 0px 1px 3px 1px rgba(0, 0, 0, 0.15);\n",
              "      filter: drop-shadow(0px 1px 2px rgba(0, 0, 0, 0.3));\n",
              "      fill: #FFFFFF;\n",
              "    }\n",
              "  </style>\n",
              "\n",
              "    <script>\n",
              "      const buttonEl =\n",
              "        document.querySelector('#df-d9618278-5fa4-4e12-af5b-0f2ce14af79d button.colab-df-convert');\n",
              "      buttonEl.style.display =\n",
              "        google.colab.kernel.accessAllowed ? 'block' : 'none';\n",
              "\n",
              "      async function convertToInteractive(key) {\n",
              "        const element = document.querySelector('#df-d9618278-5fa4-4e12-af5b-0f2ce14af79d');\n",
              "        const dataTable =\n",
              "          await google.colab.kernel.invokeFunction('convertToInteractive',\n",
              "                                                    [key], {});\n",
              "        if (!dataTable) return;\n",
              "\n",
              "        const docLinkHtml = 'Like what you see? Visit the ' +\n",
              "          '<a target=\"_blank\" href=https://colab.research.google.com/notebooks/data_table.ipynb>data table notebook</a>'\n",
              "          + ' to learn more about interactive tables.';\n",
              "        element.innerHTML = '';\n",
              "        dataTable['output_type'] = 'display_data';\n",
              "        await google.colab.output.renderOutput(dataTable, element);\n",
              "        const docLink = document.createElement('div');\n",
              "        docLink.innerHTML = docLinkHtml;\n",
              "        element.appendChild(docLink);\n",
              "      }\n",
              "    </script>\n",
              "  </div>\n",
              "\n",
              "\n",
              "<div id=\"df-ec17f4ab-85c6-4950-9c05-579bdd4ade65\">\n",
              "  <button class=\"colab-df-quickchart\" onclick=\"quickchart('df-ec17f4ab-85c6-4950-9c05-579bdd4ade65')\"\n",
              "            title=\"Suggest charts\"\n",
              "            style=\"display:none;\">\n",
              "\n",
              "<svg xmlns=\"http://www.w3.org/2000/svg\" height=\"24px\"viewBox=\"0 0 24 24\"\n",
              "     width=\"24px\">\n",
              "    <g>\n",
              "        <path d=\"M19 3H5c-1.1 0-2 .9-2 2v14c0 1.1.9 2 2 2h14c1.1 0 2-.9 2-2V5c0-1.1-.9-2-2-2zM9 17H7v-7h2v7zm4 0h-2V7h2v10zm4 0h-2v-4h2v4z\"/>\n",
              "    </g>\n",
              "</svg>\n",
              "  </button>\n",
              "\n",
              "<style>\n",
              "  .colab-df-quickchart {\n",
              "      --bg-color: #E8F0FE;\n",
              "      --fill-color: #1967D2;\n",
              "      --hover-bg-color: #E2EBFA;\n",
              "      --hover-fill-color: #174EA6;\n",
              "      --disabled-fill-color: #AAA;\n",
              "      --disabled-bg-color: #DDD;\n",
              "  }\n",
              "\n",
              "  [theme=dark] .colab-df-quickchart {\n",
              "      --bg-color: #3B4455;\n",
              "      --fill-color: #D2E3FC;\n",
              "      --hover-bg-color: #434B5C;\n",
              "      --hover-fill-color: #FFFFFF;\n",
              "      --disabled-bg-color: #3B4455;\n",
              "      --disabled-fill-color: #666;\n",
              "  }\n",
              "\n",
              "  .colab-df-quickchart {\n",
              "    background-color: var(--bg-color);\n",
              "    border: none;\n",
              "    border-radius: 50%;\n",
              "    cursor: pointer;\n",
              "    display: none;\n",
              "    fill: var(--fill-color);\n",
              "    height: 32px;\n",
              "    padding: 0;\n",
              "    width: 32px;\n",
              "  }\n",
              "\n",
              "  .colab-df-quickchart:hover {\n",
              "    background-color: var(--hover-bg-color);\n",
              "    box-shadow: 0 1px 2px rgba(60, 64, 67, 0.3), 0 1px 3px 1px rgba(60, 64, 67, 0.15);\n",
              "    fill: var(--button-hover-fill-color);\n",
              "  }\n",
              "\n",
              "  .colab-df-quickchart-complete:disabled,\n",
              "  .colab-df-quickchart-complete:disabled:hover {\n",
              "    background-color: var(--disabled-bg-color);\n",
              "    fill: var(--disabled-fill-color);\n",
              "    box-shadow: none;\n",
              "  }\n",
              "\n",
              "  .colab-df-spinner {\n",
              "    border: 2px solid var(--fill-color);\n",
              "    border-color: transparent;\n",
              "    border-bottom-color: var(--fill-color);\n",
              "    animation:\n",
              "      spin 1s steps(1) infinite;\n",
              "  }\n",
              "\n",
              "  @keyframes spin {\n",
              "    0% {\n",
              "      border-color: transparent;\n",
              "      border-bottom-color: var(--fill-color);\n",
              "      border-left-color: var(--fill-color);\n",
              "    }\n",
              "    20% {\n",
              "      border-color: transparent;\n",
              "      border-left-color: var(--fill-color);\n",
              "      border-top-color: var(--fill-color);\n",
              "    }\n",
              "    30% {\n",
              "      border-color: transparent;\n",
              "      border-left-color: var(--fill-color);\n",
              "      border-top-color: var(--fill-color);\n",
              "      border-right-color: var(--fill-color);\n",
              "    }\n",
              "    40% {\n",
              "      border-color: transparent;\n",
              "      border-right-color: var(--fill-color);\n",
              "      border-top-color: var(--fill-color);\n",
              "    }\n",
              "    60% {\n",
              "      border-color: transparent;\n",
              "      border-right-color: var(--fill-color);\n",
              "    }\n",
              "    80% {\n",
              "      border-color: transparent;\n",
              "      border-right-color: var(--fill-color);\n",
              "      border-bottom-color: var(--fill-color);\n",
              "    }\n",
              "    90% {\n",
              "      border-color: transparent;\n",
              "      border-bottom-color: var(--fill-color);\n",
              "    }\n",
              "  }\n",
              "</style>\n",
              "\n",
              "  <script>\n",
              "    async function quickchart(key) {\n",
              "      const quickchartButtonEl =\n",
              "        document.querySelector('#' + key + ' button');\n",
              "      quickchartButtonEl.disabled = true;  // To prevent multiple clicks.\n",
              "      quickchartButtonEl.classList.add('colab-df-spinner');\n",
              "      try {\n",
              "        const charts = await google.colab.kernel.invokeFunction(\n",
              "            'suggestCharts', [key], {});\n",
              "      } catch (error) {\n",
              "        console.error('Error during call to suggestCharts:', error);\n",
              "      }\n",
              "      quickchartButtonEl.classList.remove('colab-df-spinner');\n",
              "      quickchartButtonEl.classList.add('colab-df-quickchart-complete');\n",
              "    }\n",
              "    (() => {\n",
              "      let quickchartButtonEl =\n",
              "        document.querySelector('#df-ec17f4ab-85c6-4950-9c05-579bdd4ade65 button');\n",
              "      quickchartButtonEl.style.display =\n",
              "        google.colab.kernel.accessAllowed ? 'block' : 'none';\n",
              "    })();\n",
              "  </script>\n",
              "</div>\n",
              "\n",
              "    </div>\n",
              "  </div>\n"
            ],
            "application/vnd.google.colaboratory.intrinsic+json": {
              "type": "dataframe",
              "variable_name": "data",
              "summary": "{\n  \"name\": \"data\",\n  \"rows\": 440,\n  \"fields\": [\n    {\n      \"column\": \"Artist\",\n      \"properties\": {\n        \"dtype\": \"category\",\n        \"num_unique_values\": 115,\n        \"samples\": [\n          \"Playboi Carti\",\n          \"Nicki Minaj\",\n          \"NEIKED\"\n        ],\n        \"semantic_type\": \"\",\n        \"description\": \"\"\n      }\n    },\n    {\n      \"column\": \"Track Name\",\n      \"properties\": {\n        \"dtype\": \"string\",\n        \"num_unique_values\": 412,\n        \"samples\": [\n          \"Shoota (feat. Lil Uzi Vert)\",\n          \"PUFFIN ON ZOOTIEZ\",\n          \"ROCKSTAR (feat. Roddy Ricch)\"\n        ],\n        \"semantic_type\": \"\",\n        \"description\": \"\"\n      }\n    },\n    {\n      \"column\": \"Popularity\",\n      \"properties\": {\n        \"dtype\": \"number\",\n        \"std\": 9,\n        \"min\": 29,\n        \"max\": 97,\n        \"num_unique_values\": 51,\n        \"samples\": [\n          35,\n          54,\n          52\n        ],\n        \"semantic_type\": \"\",\n        \"description\": \"\"\n      }\n    },\n    {\n      \"column\": \"Duration (ms)\",\n      \"properties\": {\n        \"dtype\": \"number\",\n        \"std\": 53576,\n        \"min\": 81666,\n        \"max\": 501648,\n        \"num_unique_values\": 410,\n        \"samples\": [\n          203894,\n          225905,\n          213593\n        ],\n        \"semantic_type\": \"\",\n        \"description\": \"\"\n      }\n    },\n    {\n      \"column\": \"Track ID\",\n      \"properties\": {\n        \"dtype\": \"string\",\n        \"num_unique_values\": 413,\n        \"samples\": [\n          \"50ceCGZ3oD3U5caQV5bP6f\",\n          \"4LwOrnuxJwR7C5Sw4liY4Z\",\n          \"1c7MITQmNJTrvfbDSzWT6x\"\n        ],\n        \"semantic_type\": \"\",\n        \"description\": \"\"\n      }\n    }\n  ]\n}"
            }
          },
          "metadata": {},
          "execution_count": 7
        }
      ]
    },
    {
      "cell_type": "code",
      "source": [
        "# To print the column names present in the dataset.\n",
        "data.columns"
      ],
      "metadata": {
        "colab": {
          "base_uri": "https://localhost:8080/"
        },
        "id": "DaQfrtgL-42m",
        "outputId": "70a127d4-7e42-4dbd-ec63-af3038465e89"
      },
      "execution_count": 8,
      "outputs": [
        {
          "output_type": "execute_result",
          "data": {
            "text/plain": [
              "Index(['Artist', 'Track Name', 'Popularity', 'Duration (ms)', 'Track ID'], dtype='object')"
            ]
          },
          "metadata": {},
          "execution_count": 8
        }
      ]
    },
    {
      "cell_type": "code",
      "source": [
        "# Gives the a concise summary of a DataFrame.\n",
        "data.info()"
      ],
      "metadata": {
        "colab": {
          "base_uri": "https://localhost:8080/"
        },
        "id": "VDU6Hztn_DnI",
        "outputId": "3481a818-5cd7-4fb6-f5ee-119fc0d76b60"
      },
      "execution_count": 11,
      "outputs": [
        {
          "output_type": "stream",
          "name": "stdout",
          "text": [
            "<class 'pandas.core.frame.DataFrame'>\n",
            "RangeIndex: 440 entries, 0 to 439\n",
            "Data columns (total 5 columns):\n",
            " #   Column         Non-Null Count  Dtype \n",
            "---  ------         --------------  ----- \n",
            " 0   Artist         440 non-null    object\n",
            " 1   Track Name     440 non-null    object\n",
            " 2   Popularity     440 non-null    int64 \n",
            " 3   Duration (ms)  440 non-null    int64 \n",
            " 4   Track ID       440 non-null    object\n",
            "dtypes: int64(2), object(3)\n",
            "memory usage: 17.3+ KB\n"
          ]
        }
      ]
    },
    {
      "cell_type": "code",
      "source": [
        "# Prints the shape i.e. the row size by column size of the dataset\n",
        "data.shape"
      ],
      "metadata": {
        "colab": {
          "base_uri": "https://localhost:8080/"
        },
        "id": "8box6lKj_V_Q",
        "outputId": "99632ee4-aece-4eb0-8c7a-5d98cd8ab7de"
      },
      "execution_count": 10,
      "outputs": [
        {
          "output_type": "execute_result",
          "data": {
            "text/plain": [
              "(440, 5)"
            ]
          },
          "metadata": {},
          "execution_count": 10
        }
      ]
    },
    {
      "cell_type": "code",
      "source": [
        "# Gives the details on the datatype present in each column\n",
        "data.dtypes"
      ],
      "metadata": {
        "colab": {
          "base_uri": "https://localhost:8080/"
        },
        "id": "orvE9Gq3_j5n",
        "outputId": "8bb39dd6-eb61-469b-8fd8-a9de9a24a090"
      },
      "execution_count": 12,
      "outputs": [
        {
          "output_type": "execute_result",
          "data": {
            "text/plain": [
              "Artist           object\n",
              "Track Name       object\n",
              "Popularity        int64\n",
              "Duration (ms)     int64\n",
              "Track ID         object\n",
              "dtype: object"
            ]
          },
          "metadata": {},
          "execution_count": 12
        }
      ]
    },
    {
      "cell_type": "code",
      "source": [
        "# Gives the overall info of the dataframe object\n",
        "data.describe()"
      ],
      "metadata": {
        "colab": {
          "base_uri": "https://localhost:8080/",
          "height": 300
        },
        "id": "MjXArU9o_s8v",
        "outputId": "a0b031ae-b220-4ed8-cf94-f3297028c0ff"
      },
      "execution_count": 14,
      "outputs": [
        {
          "output_type": "execute_result",
          "data": {
            "text/plain": [
              "       Popularity  Duration (ms)\n",
              "count  440.000000     440.000000\n",
              "mean    75.736364  206810.040909\n",
              "std      9.886534   53576.930289\n",
              "min     29.000000   81666.000000\n",
              "25%     70.000000  172778.500000\n",
              "50%     77.000000  201866.000000\n",
              "75%     83.000000  235119.750000\n",
              "max     97.000000  501648.000000"
            ],
            "text/html": [
              "\n",
              "  <div id=\"df-93cf944b-2131-44b2-8266-7b331d661d6f\" class=\"colab-df-container\">\n",
              "    <div>\n",
              "<style scoped>\n",
              "    .dataframe tbody tr th:only-of-type {\n",
              "        vertical-align: middle;\n",
              "    }\n",
              "\n",
              "    .dataframe tbody tr th {\n",
              "        vertical-align: top;\n",
              "    }\n",
              "\n",
              "    .dataframe thead th {\n",
              "        text-align: right;\n",
              "    }\n",
              "</style>\n",
              "<table border=\"1\" class=\"dataframe\">\n",
              "  <thead>\n",
              "    <tr style=\"text-align: right;\">\n",
              "      <th></th>\n",
              "      <th>Popularity</th>\n",
              "      <th>Duration (ms)</th>\n",
              "    </tr>\n",
              "  </thead>\n",
              "  <tbody>\n",
              "    <tr>\n",
              "      <th>count</th>\n",
              "      <td>440.000000</td>\n",
              "      <td>440.000000</td>\n",
              "    </tr>\n",
              "    <tr>\n",
              "      <th>mean</th>\n",
              "      <td>75.736364</td>\n",
              "      <td>206810.040909</td>\n",
              "    </tr>\n",
              "    <tr>\n",
              "      <th>std</th>\n",
              "      <td>9.886534</td>\n",
              "      <td>53576.930289</td>\n",
              "    </tr>\n",
              "    <tr>\n",
              "      <th>min</th>\n",
              "      <td>29.000000</td>\n",
              "      <td>81666.000000</td>\n",
              "    </tr>\n",
              "    <tr>\n",
              "      <th>25%</th>\n",
              "      <td>70.000000</td>\n",
              "      <td>172778.500000</td>\n",
              "    </tr>\n",
              "    <tr>\n",
              "      <th>50%</th>\n",
              "      <td>77.000000</td>\n",
              "      <td>201866.000000</td>\n",
              "    </tr>\n",
              "    <tr>\n",
              "      <th>75%</th>\n",
              "      <td>83.000000</td>\n",
              "      <td>235119.750000</td>\n",
              "    </tr>\n",
              "    <tr>\n",
              "      <th>max</th>\n",
              "      <td>97.000000</td>\n",
              "      <td>501648.000000</td>\n",
              "    </tr>\n",
              "  </tbody>\n",
              "</table>\n",
              "</div>\n",
              "    <div class=\"colab-df-buttons\">\n",
              "\n",
              "  <div class=\"colab-df-container\">\n",
              "    <button class=\"colab-df-convert\" onclick=\"convertToInteractive('df-93cf944b-2131-44b2-8266-7b331d661d6f')\"\n",
              "            title=\"Convert this dataframe to an interactive table.\"\n",
              "            style=\"display:none;\">\n",
              "\n",
              "  <svg xmlns=\"http://www.w3.org/2000/svg\" height=\"24px\" viewBox=\"0 -960 960 960\">\n",
              "    <path d=\"M120-120v-720h720v720H120Zm60-500h600v-160H180v160Zm220 220h160v-160H400v160Zm0 220h160v-160H400v160ZM180-400h160v-160H180v160Zm440 0h160v-160H620v160ZM180-180h160v-160H180v160Zm440 0h160v-160H620v160Z\"/>\n",
              "  </svg>\n",
              "    </button>\n",
              "\n",
              "  <style>\n",
              "    .colab-df-container {\n",
              "      display:flex;\n",
              "      gap: 12px;\n",
              "    }\n",
              "\n",
              "    .colab-df-convert {\n",
              "      background-color: #E8F0FE;\n",
              "      border: none;\n",
              "      border-radius: 50%;\n",
              "      cursor: pointer;\n",
              "      display: none;\n",
              "      fill: #1967D2;\n",
              "      height: 32px;\n",
              "      padding: 0 0 0 0;\n",
              "      width: 32px;\n",
              "    }\n",
              "\n",
              "    .colab-df-convert:hover {\n",
              "      background-color: #E2EBFA;\n",
              "      box-shadow: 0px 1px 2px rgba(60, 64, 67, 0.3), 0px 1px 3px 1px rgba(60, 64, 67, 0.15);\n",
              "      fill: #174EA6;\n",
              "    }\n",
              "\n",
              "    .colab-df-buttons div {\n",
              "      margin-bottom: 4px;\n",
              "    }\n",
              "\n",
              "    [theme=dark] .colab-df-convert {\n",
              "      background-color: #3B4455;\n",
              "      fill: #D2E3FC;\n",
              "    }\n",
              "\n",
              "    [theme=dark] .colab-df-convert:hover {\n",
              "      background-color: #434B5C;\n",
              "      box-shadow: 0px 1px 3px 1px rgba(0, 0, 0, 0.15);\n",
              "      filter: drop-shadow(0px 1px 2px rgba(0, 0, 0, 0.3));\n",
              "      fill: #FFFFFF;\n",
              "    }\n",
              "  </style>\n",
              "\n",
              "    <script>\n",
              "      const buttonEl =\n",
              "        document.querySelector('#df-93cf944b-2131-44b2-8266-7b331d661d6f button.colab-df-convert');\n",
              "      buttonEl.style.display =\n",
              "        google.colab.kernel.accessAllowed ? 'block' : 'none';\n",
              "\n",
              "      async function convertToInteractive(key) {\n",
              "        const element = document.querySelector('#df-93cf944b-2131-44b2-8266-7b331d661d6f');\n",
              "        const dataTable =\n",
              "          await google.colab.kernel.invokeFunction('convertToInteractive',\n",
              "                                                    [key], {});\n",
              "        if (!dataTable) return;\n",
              "\n",
              "        const docLinkHtml = 'Like what you see? Visit the ' +\n",
              "          '<a target=\"_blank\" href=https://colab.research.google.com/notebooks/data_table.ipynb>data table notebook</a>'\n",
              "          + ' to learn more about interactive tables.';\n",
              "        element.innerHTML = '';\n",
              "        dataTable['output_type'] = 'display_data';\n",
              "        await google.colab.output.renderOutput(dataTable, element);\n",
              "        const docLink = document.createElement('div');\n",
              "        docLink.innerHTML = docLinkHtml;\n",
              "        element.appendChild(docLink);\n",
              "      }\n",
              "    </script>\n",
              "  </div>\n",
              "\n",
              "\n",
              "<div id=\"df-b7c3d7fa-cd0d-4459-b8d6-39e2768e416f\">\n",
              "  <button class=\"colab-df-quickchart\" onclick=\"quickchart('df-b7c3d7fa-cd0d-4459-b8d6-39e2768e416f')\"\n",
              "            title=\"Suggest charts\"\n",
              "            style=\"display:none;\">\n",
              "\n",
              "<svg xmlns=\"http://www.w3.org/2000/svg\" height=\"24px\"viewBox=\"0 0 24 24\"\n",
              "     width=\"24px\">\n",
              "    <g>\n",
              "        <path d=\"M19 3H5c-1.1 0-2 .9-2 2v14c0 1.1.9 2 2 2h14c1.1 0 2-.9 2-2V5c0-1.1-.9-2-2-2zM9 17H7v-7h2v7zm4 0h-2V7h2v10zm4 0h-2v-4h2v4z\"/>\n",
              "    </g>\n",
              "</svg>\n",
              "  </button>\n",
              "\n",
              "<style>\n",
              "  .colab-df-quickchart {\n",
              "      --bg-color: #E8F0FE;\n",
              "      --fill-color: #1967D2;\n",
              "      --hover-bg-color: #E2EBFA;\n",
              "      --hover-fill-color: #174EA6;\n",
              "      --disabled-fill-color: #AAA;\n",
              "      --disabled-bg-color: #DDD;\n",
              "  }\n",
              "\n",
              "  [theme=dark] .colab-df-quickchart {\n",
              "      --bg-color: #3B4455;\n",
              "      --fill-color: #D2E3FC;\n",
              "      --hover-bg-color: #434B5C;\n",
              "      --hover-fill-color: #FFFFFF;\n",
              "      --disabled-bg-color: #3B4455;\n",
              "      --disabled-fill-color: #666;\n",
              "  }\n",
              "\n",
              "  .colab-df-quickchart {\n",
              "    background-color: var(--bg-color);\n",
              "    border: none;\n",
              "    border-radius: 50%;\n",
              "    cursor: pointer;\n",
              "    display: none;\n",
              "    fill: var(--fill-color);\n",
              "    height: 32px;\n",
              "    padding: 0;\n",
              "    width: 32px;\n",
              "  }\n",
              "\n",
              "  .colab-df-quickchart:hover {\n",
              "    background-color: var(--hover-bg-color);\n",
              "    box-shadow: 0 1px 2px rgba(60, 64, 67, 0.3), 0 1px 3px 1px rgba(60, 64, 67, 0.15);\n",
              "    fill: var(--button-hover-fill-color);\n",
              "  }\n",
              "\n",
              "  .colab-df-quickchart-complete:disabled,\n",
              "  .colab-df-quickchart-complete:disabled:hover {\n",
              "    background-color: var(--disabled-bg-color);\n",
              "    fill: var(--disabled-fill-color);\n",
              "    box-shadow: none;\n",
              "  }\n",
              "\n",
              "  .colab-df-spinner {\n",
              "    border: 2px solid var(--fill-color);\n",
              "    border-color: transparent;\n",
              "    border-bottom-color: var(--fill-color);\n",
              "    animation:\n",
              "      spin 1s steps(1) infinite;\n",
              "  }\n",
              "\n",
              "  @keyframes spin {\n",
              "    0% {\n",
              "      border-color: transparent;\n",
              "      border-bottom-color: var(--fill-color);\n",
              "      border-left-color: var(--fill-color);\n",
              "    }\n",
              "    20% {\n",
              "      border-color: transparent;\n",
              "      border-left-color: var(--fill-color);\n",
              "      border-top-color: var(--fill-color);\n",
              "    }\n",
              "    30% {\n",
              "      border-color: transparent;\n",
              "      border-left-color: var(--fill-color);\n",
              "      border-top-color: var(--fill-color);\n",
              "      border-right-color: var(--fill-color);\n",
              "    }\n",
              "    40% {\n",
              "      border-color: transparent;\n",
              "      border-right-color: var(--fill-color);\n",
              "      border-top-color: var(--fill-color);\n",
              "    }\n",
              "    60% {\n",
              "      border-color: transparent;\n",
              "      border-right-color: var(--fill-color);\n",
              "    }\n",
              "    80% {\n",
              "      border-color: transparent;\n",
              "      border-right-color: var(--fill-color);\n",
              "      border-bottom-color: var(--fill-color);\n",
              "    }\n",
              "    90% {\n",
              "      border-color: transparent;\n",
              "      border-bottom-color: var(--fill-color);\n",
              "    }\n",
              "  }\n",
              "</style>\n",
              "\n",
              "  <script>\n",
              "    async function quickchart(key) {\n",
              "      const quickchartButtonEl =\n",
              "        document.querySelector('#' + key + ' button');\n",
              "      quickchartButtonEl.disabled = true;  // To prevent multiple clicks.\n",
              "      quickchartButtonEl.classList.add('colab-df-spinner');\n",
              "      try {\n",
              "        const charts = await google.colab.kernel.invokeFunction(\n",
              "            'suggestCharts', [key], {});\n",
              "      } catch (error) {\n",
              "        console.error('Error during call to suggestCharts:', error);\n",
              "      }\n",
              "      quickchartButtonEl.classList.remove('colab-df-spinner');\n",
              "      quickchartButtonEl.classList.add('colab-df-quickchart-complete');\n",
              "    }\n",
              "    (() => {\n",
              "      let quickchartButtonEl =\n",
              "        document.querySelector('#df-b7c3d7fa-cd0d-4459-b8d6-39e2768e416f button');\n",
              "      quickchartButtonEl.style.display =\n",
              "        google.colab.kernel.accessAllowed ? 'block' : 'none';\n",
              "    })();\n",
              "  </script>\n",
              "</div>\n",
              "\n",
              "    </div>\n",
              "  </div>\n"
            ],
            "application/vnd.google.colaboratory.intrinsic+json": {
              "type": "dataframe",
              "summary": "{\n  \"name\": \"data\",\n  \"rows\": 8,\n  \"fields\": [\n    {\n      \"column\": \"Popularity\",\n      \"properties\": {\n        \"dtype\": \"number\",\n        \"std\": 136.40505524722832,\n        \"min\": 9.886533739845703,\n        \"max\": 440.0,\n        \"num_unique_values\": 8,\n        \"samples\": [\n          75.73636363636363,\n          77.0,\n          440.0\n        ],\n        \"semantic_type\": \"\",\n        \"description\": \"\"\n      }\n    },\n    {\n      \"column\": \"Duration (ms)\",\n      \"properties\": {\n        \"dtype\": \"number\",\n        \"std\": 153815.59709592065,\n        \"min\": 440.0,\n        \"max\": 501648.0,\n        \"num_unique_values\": 8,\n        \"samples\": [\n          206810.04090909092,\n          201866.0,\n          440.0\n        ],\n        \"semantic_type\": \"\",\n        \"description\": \"\"\n      }\n    }\n  ]\n}"
            }
          },
          "metadata": {},
          "execution_count": 14
        }
      ]
    },
    {
      "cell_type": "markdown",
      "source": [
        "##Step 4: Data Cleaning (Filteration)"
      ],
      "metadata": {
        "id": "prXVdLDRADtr"
      }
    },
    {
      "cell_type": "code",
      "source": [
        "# Shows the number of rows in a particular column. Useful for finding missing values.\n",
        "data.count()"
      ],
      "metadata": {
        "colab": {
          "base_uri": "https://localhost:8080/"
        },
        "id": "EnnM2o-6AHGN",
        "outputId": "9d61a76f-6e35-45d9-ac94-ea5ea057c8e7"
      },
      "execution_count": 15,
      "outputs": [
        {
          "output_type": "execute_result",
          "data": {
            "text/plain": [
              "Artist           440\n",
              "Track Name       440\n",
              "Popularity       440\n",
              "Duration (ms)    440\n",
              "Track ID         440\n",
              "dtype: int64"
            ]
          },
          "metadata": {},
          "execution_count": 15
        }
      ]
    },
    {
      "cell_type": "code",
      "source": [
        "# To get the values from the dataset\n",
        "data.value_counts()"
      ],
      "metadata": {
        "colab": {
          "base_uri": "https://localhost:8080/"
        },
        "id": "xy7La8MJASPO",
        "outputId": "a44b7934-0862-4558-a2f8-5a2639d73d58"
      },
      "execution_count": 17,
      "outputs": [
        {
          "output_type": "execute_result",
          "data": {
            "text/plain": [
              "Artist          Track Name                                                                                     Popularity  Duration (ms)  Track ID              \n",
              "Metro Boomin    Annihilate (Spider-Man: Across the Spider-Verse) (Metro Boomin & Swae Lee, Lil Wayne, Offset)  79          231746         39MK3d3fonIP8Mz9oHCTBB    3\n",
              "D-Block Europe  Overseas                                                                                       74          222154         337kcYVjYXdLBItCw9ry3b    2\n",
              "Drake           Jimmy Cooks (feat. 21 Savage)                                                                  88          218364         3F5CgOj3wFlRv51JsHbxhe    2\n",
              "Lil Nas X       INDUSTRY BABY (feat. Jack Harlow)                                                              78          212352         5Z9KJZvQzH6PFmb8SNkxuk    2\n",
              "Drake           Rich Flex                                                                                      85          239359         1bDbXMyjaUIooNwFE9wn0N    2\n",
              "                                                                                                                                                                   ..\n",
              "Gunna           Drip or Drown                                                                                  78          126168         6ZthdsKjWtiCxnxbhs74vF    1\n",
              "                Bittersweet                                                                                    74          191493         7yfRb4seXT7w8zVMW0dXNa    1\n",
              "Gucci Mane      Wake Up in the Sky                                                                             76          203161         2G1tXoGBaEMJ7FKGnkf6ud    1\n",
              "GloRilla        Tomorrow 2 (with Cardi B)                                                                      73          209811         0WNfQxDGaPTl0yogcMR5v1    1\n",
              "¥$              VULTURES                                                                                       80          276986         3SIRBp4RRQ2AO5H4NO7xfq    1\n",
              "Name: count, Length: 413, dtype: int64"
            ]
          },
          "metadata": {},
          "execution_count": 17
        }
      ]
    },
    {
      "cell_type": "code",
      "source": [
        "# Gives the unique values present in the specified column\n",
        "data['Artist'].unique()"
      ],
      "metadata": {
        "colab": {
          "base_uri": "https://localhost:8080/"
        },
        "id": "uiVZFMokAmKx",
        "outputId": "a7c087b0-7616-4de6-a0c9-66b596364d2c"
      },
      "execution_count": 18,
      "outputs": [
        {
          "output_type": "execute_result",
          "data": {
            "text/plain": [
              "array(['Drake', 'Travis Scott', 'Post Malone', 'Noah Kahan',\n",
              "       'Nicki Minaj', 'Justin Bieber', 'Jessie J', 'KAROL G', '21 Savage',\n",
              "       'Metro Boomin', 'SZA', 'Jack Harlow', 'Jung Kook', 'Lil Nas X',\n",
              "       'Lyrical Lemonade', 'Future', 'Don Toliver', 'Lil Wayne', 'Yeat',\n",
              "       'Eminem', 'Kendrick Lamar', 'Baby Keem', 'The Weeknd', 'JAY-Z',\n",
              "       'Cardi B', 'Bruno Mars', 'Ed Sheeran', 'GloRilla', 'Gunna',\n",
              "       'Lil Baby', 'Internet Money', 'Sarz', 'J. Cole', 'Lil Durk',\n",
              "       'cassö', 'D-Block Europe', 'Clavish', 'Latto', 'Young Nudy',\n",
              "       'Megan Thee Stallion', 'NEIKED', 'Snoop Dogg', 'Dr. Dre',\n",
              "       'benny blanco', 'Young Thug', 'Chris Brown', 'Dave', 'Central Cee',\n",
              "       'The Kid LAROI', 'Quevedo', 'Bizarrap', 'Anuel AA', 'SAIKO',\n",
              "       'David Guetta', 'Coi Leray', 'Pressa', 'Fivio Foreign', 'RAYE',\n",
              "       'French Montana', 'Arizona Zervas', 'Pharrell Williams',\n",
              "       'XXXTENTACION', 'Kane Brown', 'Ellie Goulding', 'Reneé Rapp',\n",
              "       'Maroon 5', 'DJ Snake', 'Quavo', 'DJ Khaled', 'ATL Jacob',\n",
              "       'Jason Derulo', 'Kanye West', 'Trueno', 'Rauw Alejandro',\n",
              "       'Dua Lipa', 'DaBaby', 'Quality Control', 'That Mexican OT', '¥$',\n",
              "       'Nardo Wick', 'Only The Family', 'Playboi Carti', 'Flo Rida',\n",
              "       'Tyga', 'Oscar Maydon', 'Blxst', 'Doja Cat', 'Juice WRLD',\n",
              "       'Lil Uzi Vert', 'Wiz Khalifa', '2 Chainz', 'Ice Spice',\n",
              "       'PinkPantheress', 'Taylor Swift', 'Justin Timberlake',\n",
              "       'Leslie Odom Jr.', 'Lin-Manuel Miranda', 'Camila Cabello',\n",
              "       '*NSYNC', 'Ludacris', 'Timbaland', 'Gucci Mane',\n",
              "       'A Boogie Wit da Hoodie', 'Kodak Black', 'Lil Tecca', 'Fugees',\n",
              "       'Wyclef Jean', 'Rick Ross', 'Skrillex', 'Offset', 'Lil Tjay',\n",
              "       'BigXthaPlug', 'Fat Joe', 'A$AP Ferg', 'Diddy'], dtype=object)"
            ]
          },
          "metadata": {},
          "execution_count": 18
        }
      ]
    },
    {
      "cell_type": "code",
      "source": [
        "# To remove all null values if present in the dataset\n",
        "data.dropna()"
      ],
      "metadata": {
        "colab": {
          "base_uri": "https://localhost:8080/",
          "height": 423
        },
        "id": "bbknM4lQBPX4",
        "outputId": "b0890460-39ad-4cc3-ff33-e38eb689f755"
      },
      "execution_count": 19,
      "outputs": [
        {
          "output_type": "execute_result",
          "data": {
            "text/plain": [
              "             Artist                                         Track Name  \\\n",
              "0             Drake            Rich Baby Daddy (feat. Sexyy Red & SZA)   \n",
              "1             Drake                                          One Dance   \n",
              "2             Drake                                 IDGAF (feat. Yeat)   \n",
              "3             Drake               First Person Shooter (feat. J. Cole)   \n",
              "4             Drake                      Jimmy Cooks (feat. 21 Savage)   \n",
              "..              ...                                                ...   \n",
              "435  French Montana                                    Splash Brothers   \n",
              "436         Fat Joe                     All The Way Up (feat. Infared)   \n",
              "437       A$AP Ferg  Work REMIX (feat. A$AP Rocky, French Montana, ...   \n",
              "438           Diddy                Another One Of Me (feat. 21 Savage)   \n",
              "439       Rick Ross                                       Stay Schemin   \n",
              "\n",
              "     Popularity  Duration (ms)                Track ID  \n",
              "0            92         319191  1yeB8MUNeLo9Ek1UEpsyz6  \n",
              "1            91         173986  1zi7xx7UVEFkmKfv06H8x0  \n",
              "2            90         260111  2YSzYUF3jWqb9YP9VXmpjE  \n",
              "3            88         247444  7aqfrAY2p9BUSiupwk3svU  \n",
              "4            88         218364  3F5CgOj3wFlRv51JsHbxhe  \n",
              "..          ...            ...                     ...  \n",
              "435          44         221863  3fBsEOnzwtlkpS0LxXAZhN  \n",
              "436          64         191900  7Ezwtgfw7khBrpvaNPtMoT  \n",
              "437          69         283693  7xVLFuuYdAvcTfcP3IG3dS  \n",
              "438          65         220408  4hGmQboiou09EwhcTWa0H6  \n",
              "439          68         267720  0nq6sfr8z1R5KJ4XUk396e  \n",
              "\n",
              "[440 rows x 5 columns]"
            ],
            "text/html": [
              "\n",
              "  <div id=\"df-3b2626b3-c22d-49d8-8bed-963219cd5024\" class=\"colab-df-container\">\n",
              "    <div>\n",
              "<style scoped>\n",
              "    .dataframe tbody tr th:only-of-type {\n",
              "        vertical-align: middle;\n",
              "    }\n",
              "\n",
              "    .dataframe tbody tr th {\n",
              "        vertical-align: top;\n",
              "    }\n",
              "\n",
              "    .dataframe thead th {\n",
              "        text-align: right;\n",
              "    }\n",
              "</style>\n",
              "<table border=\"1\" class=\"dataframe\">\n",
              "  <thead>\n",
              "    <tr style=\"text-align: right;\">\n",
              "      <th></th>\n",
              "      <th>Artist</th>\n",
              "      <th>Track Name</th>\n",
              "      <th>Popularity</th>\n",
              "      <th>Duration (ms)</th>\n",
              "      <th>Track ID</th>\n",
              "    </tr>\n",
              "  </thead>\n",
              "  <tbody>\n",
              "    <tr>\n",
              "      <th>0</th>\n",
              "      <td>Drake</td>\n",
              "      <td>Rich Baby Daddy (feat. Sexyy Red &amp; SZA)</td>\n",
              "      <td>92</td>\n",
              "      <td>319191</td>\n",
              "      <td>1yeB8MUNeLo9Ek1UEpsyz6</td>\n",
              "    </tr>\n",
              "    <tr>\n",
              "      <th>1</th>\n",
              "      <td>Drake</td>\n",
              "      <td>One Dance</td>\n",
              "      <td>91</td>\n",
              "      <td>173986</td>\n",
              "      <td>1zi7xx7UVEFkmKfv06H8x0</td>\n",
              "    </tr>\n",
              "    <tr>\n",
              "      <th>2</th>\n",
              "      <td>Drake</td>\n",
              "      <td>IDGAF (feat. Yeat)</td>\n",
              "      <td>90</td>\n",
              "      <td>260111</td>\n",
              "      <td>2YSzYUF3jWqb9YP9VXmpjE</td>\n",
              "    </tr>\n",
              "    <tr>\n",
              "      <th>3</th>\n",
              "      <td>Drake</td>\n",
              "      <td>First Person Shooter (feat. J. Cole)</td>\n",
              "      <td>88</td>\n",
              "      <td>247444</td>\n",
              "      <td>7aqfrAY2p9BUSiupwk3svU</td>\n",
              "    </tr>\n",
              "    <tr>\n",
              "      <th>4</th>\n",
              "      <td>Drake</td>\n",
              "      <td>Jimmy Cooks (feat. 21 Savage)</td>\n",
              "      <td>88</td>\n",
              "      <td>218364</td>\n",
              "      <td>3F5CgOj3wFlRv51JsHbxhe</td>\n",
              "    </tr>\n",
              "    <tr>\n",
              "      <th>...</th>\n",
              "      <td>...</td>\n",
              "      <td>...</td>\n",
              "      <td>...</td>\n",
              "      <td>...</td>\n",
              "      <td>...</td>\n",
              "    </tr>\n",
              "    <tr>\n",
              "      <th>435</th>\n",
              "      <td>French Montana</td>\n",
              "      <td>Splash Brothers</td>\n",
              "      <td>44</td>\n",
              "      <td>221863</td>\n",
              "      <td>3fBsEOnzwtlkpS0LxXAZhN</td>\n",
              "    </tr>\n",
              "    <tr>\n",
              "      <th>436</th>\n",
              "      <td>Fat Joe</td>\n",
              "      <td>All The Way Up (feat. Infared)</td>\n",
              "      <td>64</td>\n",
              "      <td>191900</td>\n",
              "      <td>7Ezwtgfw7khBrpvaNPtMoT</td>\n",
              "    </tr>\n",
              "    <tr>\n",
              "      <th>437</th>\n",
              "      <td>A$AP Ferg</td>\n",
              "      <td>Work REMIX (feat. A$AP Rocky, French Montana, ...</td>\n",
              "      <td>69</td>\n",
              "      <td>283693</td>\n",
              "      <td>7xVLFuuYdAvcTfcP3IG3dS</td>\n",
              "    </tr>\n",
              "    <tr>\n",
              "      <th>438</th>\n",
              "      <td>Diddy</td>\n",
              "      <td>Another One Of Me (feat. 21 Savage)</td>\n",
              "      <td>65</td>\n",
              "      <td>220408</td>\n",
              "      <td>4hGmQboiou09EwhcTWa0H6</td>\n",
              "    </tr>\n",
              "    <tr>\n",
              "      <th>439</th>\n",
              "      <td>Rick Ross</td>\n",
              "      <td>Stay Schemin</td>\n",
              "      <td>68</td>\n",
              "      <td>267720</td>\n",
              "      <td>0nq6sfr8z1R5KJ4XUk396e</td>\n",
              "    </tr>\n",
              "  </tbody>\n",
              "</table>\n",
              "<p>440 rows × 5 columns</p>\n",
              "</div>\n",
              "    <div class=\"colab-df-buttons\">\n",
              "\n",
              "  <div class=\"colab-df-container\">\n",
              "    <button class=\"colab-df-convert\" onclick=\"convertToInteractive('df-3b2626b3-c22d-49d8-8bed-963219cd5024')\"\n",
              "            title=\"Convert this dataframe to an interactive table.\"\n",
              "            style=\"display:none;\">\n",
              "\n",
              "  <svg xmlns=\"http://www.w3.org/2000/svg\" height=\"24px\" viewBox=\"0 -960 960 960\">\n",
              "    <path d=\"M120-120v-720h720v720H120Zm60-500h600v-160H180v160Zm220 220h160v-160H400v160Zm0 220h160v-160H400v160ZM180-400h160v-160H180v160Zm440 0h160v-160H620v160ZM180-180h160v-160H180v160Zm440 0h160v-160H620v160Z\"/>\n",
              "  </svg>\n",
              "    </button>\n",
              "\n",
              "  <style>\n",
              "    .colab-df-container {\n",
              "      display:flex;\n",
              "      gap: 12px;\n",
              "    }\n",
              "\n",
              "    .colab-df-convert {\n",
              "      background-color: #E8F0FE;\n",
              "      border: none;\n",
              "      border-radius: 50%;\n",
              "      cursor: pointer;\n",
              "      display: none;\n",
              "      fill: #1967D2;\n",
              "      height: 32px;\n",
              "      padding: 0 0 0 0;\n",
              "      width: 32px;\n",
              "    }\n",
              "\n",
              "    .colab-df-convert:hover {\n",
              "      background-color: #E2EBFA;\n",
              "      box-shadow: 0px 1px 2px rgba(60, 64, 67, 0.3), 0px 1px 3px 1px rgba(60, 64, 67, 0.15);\n",
              "      fill: #174EA6;\n",
              "    }\n",
              "\n",
              "    .colab-df-buttons div {\n",
              "      margin-bottom: 4px;\n",
              "    }\n",
              "\n",
              "    [theme=dark] .colab-df-convert {\n",
              "      background-color: #3B4455;\n",
              "      fill: #D2E3FC;\n",
              "    }\n",
              "\n",
              "    [theme=dark] .colab-df-convert:hover {\n",
              "      background-color: #434B5C;\n",
              "      box-shadow: 0px 1px 3px 1px rgba(0, 0, 0, 0.15);\n",
              "      filter: drop-shadow(0px 1px 2px rgba(0, 0, 0, 0.3));\n",
              "      fill: #FFFFFF;\n",
              "    }\n",
              "  </style>\n",
              "\n",
              "    <script>\n",
              "      const buttonEl =\n",
              "        document.querySelector('#df-3b2626b3-c22d-49d8-8bed-963219cd5024 button.colab-df-convert');\n",
              "      buttonEl.style.display =\n",
              "        google.colab.kernel.accessAllowed ? 'block' : 'none';\n",
              "\n",
              "      async function convertToInteractive(key) {\n",
              "        const element = document.querySelector('#df-3b2626b3-c22d-49d8-8bed-963219cd5024');\n",
              "        const dataTable =\n",
              "          await google.colab.kernel.invokeFunction('convertToInteractive',\n",
              "                                                    [key], {});\n",
              "        if (!dataTable) return;\n",
              "\n",
              "        const docLinkHtml = 'Like what you see? Visit the ' +\n",
              "          '<a target=\"_blank\" href=https://colab.research.google.com/notebooks/data_table.ipynb>data table notebook</a>'\n",
              "          + ' to learn more about interactive tables.';\n",
              "        element.innerHTML = '';\n",
              "        dataTable['output_type'] = 'display_data';\n",
              "        await google.colab.output.renderOutput(dataTable, element);\n",
              "        const docLink = document.createElement('div');\n",
              "        docLink.innerHTML = docLinkHtml;\n",
              "        element.appendChild(docLink);\n",
              "      }\n",
              "    </script>\n",
              "  </div>\n",
              "\n",
              "\n",
              "<div id=\"df-6f11018d-d6b5-47d5-84e9-7e966bba920b\">\n",
              "  <button class=\"colab-df-quickchart\" onclick=\"quickchart('df-6f11018d-d6b5-47d5-84e9-7e966bba920b')\"\n",
              "            title=\"Suggest charts\"\n",
              "            style=\"display:none;\">\n",
              "\n",
              "<svg xmlns=\"http://www.w3.org/2000/svg\" height=\"24px\"viewBox=\"0 0 24 24\"\n",
              "     width=\"24px\">\n",
              "    <g>\n",
              "        <path d=\"M19 3H5c-1.1 0-2 .9-2 2v14c0 1.1.9 2 2 2h14c1.1 0 2-.9 2-2V5c0-1.1-.9-2-2-2zM9 17H7v-7h2v7zm4 0h-2V7h2v10zm4 0h-2v-4h2v4z\"/>\n",
              "    </g>\n",
              "</svg>\n",
              "  </button>\n",
              "\n",
              "<style>\n",
              "  .colab-df-quickchart {\n",
              "      --bg-color: #E8F0FE;\n",
              "      --fill-color: #1967D2;\n",
              "      --hover-bg-color: #E2EBFA;\n",
              "      --hover-fill-color: #174EA6;\n",
              "      --disabled-fill-color: #AAA;\n",
              "      --disabled-bg-color: #DDD;\n",
              "  }\n",
              "\n",
              "  [theme=dark] .colab-df-quickchart {\n",
              "      --bg-color: #3B4455;\n",
              "      --fill-color: #D2E3FC;\n",
              "      --hover-bg-color: #434B5C;\n",
              "      --hover-fill-color: #FFFFFF;\n",
              "      --disabled-bg-color: #3B4455;\n",
              "      --disabled-fill-color: #666;\n",
              "  }\n",
              "\n",
              "  .colab-df-quickchart {\n",
              "    background-color: var(--bg-color);\n",
              "    border: none;\n",
              "    border-radius: 50%;\n",
              "    cursor: pointer;\n",
              "    display: none;\n",
              "    fill: var(--fill-color);\n",
              "    height: 32px;\n",
              "    padding: 0;\n",
              "    width: 32px;\n",
              "  }\n",
              "\n",
              "  .colab-df-quickchart:hover {\n",
              "    background-color: var(--hover-bg-color);\n",
              "    box-shadow: 0 1px 2px rgba(60, 64, 67, 0.3), 0 1px 3px 1px rgba(60, 64, 67, 0.15);\n",
              "    fill: var(--button-hover-fill-color);\n",
              "  }\n",
              "\n",
              "  .colab-df-quickchart-complete:disabled,\n",
              "  .colab-df-quickchart-complete:disabled:hover {\n",
              "    background-color: var(--disabled-bg-color);\n",
              "    fill: var(--disabled-fill-color);\n",
              "    box-shadow: none;\n",
              "  }\n",
              "\n",
              "  .colab-df-spinner {\n",
              "    border: 2px solid var(--fill-color);\n",
              "    border-color: transparent;\n",
              "    border-bottom-color: var(--fill-color);\n",
              "    animation:\n",
              "      spin 1s steps(1) infinite;\n",
              "  }\n",
              "\n",
              "  @keyframes spin {\n",
              "    0% {\n",
              "      border-color: transparent;\n",
              "      border-bottom-color: var(--fill-color);\n",
              "      border-left-color: var(--fill-color);\n",
              "    }\n",
              "    20% {\n",
              "      border-color: transparent;\n",
              "      border-left-color: var(--fill-color);\n",
              "      border-top-color: var(--fill-color);\n",
              "    }\n",
              "    30% {\n",
              "      border-color: transparent;\n",
              "      border-left-color: var(--fill-color);\n",
              "      border-top-color: var(--fill-color);\n",
              "      border-right-color: var(--fill-color);\n",
              "    }\n",
              "    40% {\n",
              "      border-color: transparent;\n",
              "      border-right-color: var(--fill-color);\n",
              "      border-top-color: var(--fill-color);\n",
              "    }\n",
              "    60% {\n",
              "      border-color: transparent;\n",
              "      border-right-color: var(--fill-color);\n",
              "    }\n",
              "    80% {\n",
              "      border-color: transparent;\n",
              "      border-right-color: var(--fill-color);\n",
              "      border-bottom-color: var(--fill-color);\n",
              "    }\n",
              "    90% {\n",
              "      border-color: transparent;\n",
              "      border-bottom-color: var(--fill-color);\n",
              "    }\n",
              "  }\n",
              "</style>\n",
              "\n",
              "  <script>\n",
              "    async function quickchart(key) {\n",
              "      const quickchartButtonEl =\n",
              "        document.querySelector('#' + key + ' button');\n",
              "      quickchartButtonEl.disabled = true;  // To prevent multiple clicks.\n",
              "      quickchartButtonEl.classList.add('colab-df-spinner');\n",
              "      try {\n",
              "        const charts = await google.colab.kernel.invokeFunction(\n",
              "            'suggestCharts', [key], {});\n",
              "      } catch (error) {\n",
              "        console.error('Error during call to suggestCharts:', error);\n",
              "      }\n",
              "      quickchartButtonEl.classList.remove('colab-df-spinner');\n",
              "      quickchartButtonEl.classList.add('colab-df-quickchart-complete');\n",
              "    }\n",
              "    (() => {\n",
              "      let quickchartButtonEl =\n",
              "        document.querySelector('#df-6f11018d-d6b5-47d5-84e9-7e966bba920b button');\n",
              "      quickchartButtonEl.style.display =\n",
              "        google.colab.kernel.accessAllowed ? 'block' : 'none';\n",
              "    })();\n",
              "  </script>\n",
              "</div>\n",
              "\n",
              "    </div>\n",
              "  </div>\n"
            ],
            "application/vnd.google.colaboratory.intrinsic+json": {
              "type": "dataframe",
              "summary": "{\n  \"name\": \"data\",\n  \"rows\": 440,\n  \"fields\": [\n    {\n      \"column\": \"Artist\",\n      \"properties\": {\n        \"dtype\": \"category\",\n        \"num_unique_values\": 115,\n        \"samples\": [\n          \"Playboi Carti\",\n          \"Nicki Minaj\",\n          \"NEIKED\"\n        ],\n        \"semantic_type\": \"\",\n        \"description\": \"\"\n      }\n    },\n    {\n      \"column\": \"Track Name\",\n      \"properties\": {\n        \"dtype\": \"string\",\n        \"num_unique_values\": 412,\n        \"samples\": [\n          \"Shoota (feat. Lil Uzi Vert)\",\n          \"PUFFIN ON ZOOTIEZ\",\n          \"ROCKSTAR (feat. Roddy Ricch)\"\n        ],\n        \"semantic_type\": \"\",\n        \"description\": \"\"\n      }\n    },\n    {\n      \"column\": \"Popularity\",\n      \"properties\": {\n        \"dtype\": \"number\",\n        \"std\": 9,\n        \"min\": 29,\n        \"max\": 97,\n        \"num_unique_values\": 51,\n        \"samples\": [\n          35,\n          54,\n          52\n        ],\n        \"semantic_type\": \"\",\n        \"description\": \"\"\n      }\n    },\n    {\n      \"column\": \"Duration (ms)\",\n      \"properties\": {\n        \"dtype\": \"number\",\n        \"std\": 53576,\n        \"min\": 81666,\n        \"max\": 501648,\n        \"num_unique_values\": 410,\n        \"samples\": [\n          203894,\n          225905,\n          213593\n        ],\n        \"semantic_type\": \"\",\n        \"description\": \"\"\n      }\n    },\n    {\n      \"column\": \"Track ID\",\n      \"properties\": {\n        \"dtype\": \"string\",\n        \"num_unique_values\": 413,\n        \"samples\": [\n          \"50ceCGZ3oD3U5caQV5bP6f\",\n          \"4LwOrnuxJwR7C5Sw4liY4Z\",\n          \"1c7MITQmNJTrvfbDSzWT6x\"\n        ],\n        \"semantic_type\": \"\",\n        \"description\": \"\"\n      }\n    }\n  ]\n}"
            }
          },
          "metadata": {},
          "execution_count": 19
        }
      ]
    },
    {
      "cell_type": "code",
      "source": [
        "# Replaces all instances of Null values with the Boolean value 'True'.\n",
        "data.dropna(inplace=True)"
      ],
      "metadata": {
        "id": "4A7r1vTWBjbv"
      },
      "execution_count": 20,
      "outputs": []
    },
    {
      "cell_type": "code",
      "source": [
        "# To check if there were any Null values that were dropped leading to a change in the shape of the Dataframe object.\n",
        "data.shape"
      ],
      "metadata": {
        "colab": {
          "base_uri": "https://localhost:8080/"
        },
        "id": "JoqEaK8IBmi7",
        "outputId": "da4832d1-5832-472e-d1ab-d7babba6db52"
      },
      "execution_count": 21,
      "outputs": [
        {
          "output_type": "execute_result",
          "data": {
            "text/plain": [
              "(440, 5)"
            ]
          },
          "metadata": {},
          "execution_count": 21
        }
      ]
    },
    {
      "cell_type": "code",
      "source": [
        "# Prints if the values in the specified\n",
        "data['Artist'].duplicated()\n"
      ],
      "metadata": {
        "colab": {
          "base_uri": "https://localhost:8080/"
        },
        "id": "lxpDnY7HCHW2",
        "outputId": "72314a79-39e3-48d5-c5b3-d5913b758b68"
      },
      "execution_count": 22,
      "outputs": [
        {
          "output_type": "execute_result",
          "data": {
            "text/plain": [
              "0      False\n",
              "1       True\n",
              "2       True\n",
              "3       True\n",
              "4       True\n",
              "       ...  \n",
              "435     True\n",
              "436    False\n",
              "437    False\n",
              "438    False\n",
              "439     True\n",
              "Name: Artist, Length: 440, dtype: bool"
            ]
          },
          "metadata": {},
          "execution_count": 22
        }
      ]
    },
    {
      "cell_type": "code",
      "source": [
        "duplicate_rows = data.duplicated()\n",
        "print(duplicate_rows.sum())"
      ],
      "metadata": {
        "colab": {
          "base_uri": "https://localhost:8080/"
        },
        "id": "yoIKITJVCiAP",
        "outputId": "8aba4671-3ed0-4f93-f6c0-9f9856c362df"
      },
      "execution_count": 23,
      "outputs": [
        {
          "output_type": "stream",
          "name": "stdout",
          "text": [
            "27\n"
          ]
        }
      ]
    },
    {
      "cell_type": "markdown",
      "source": [
        "##Step 5: Sorting/Searching/Validation"
      ],
      "metadata": {
        "id": "LLSDEeknCqLT"
      }
    },
    {
      "cell_type": "code",
      "source": [
        "# Sorting Process\n",
        "\n",
        "# Print a target column\n",
        "print(data['Popularity'])"
      ],
      "metadata": {
        "colab": {
          "base_uri": "https://localhost:8080/"
        },
        "id": "HAvyvUEtCsgO",
        "outputId": "4f87d2b3-1884-4e68-f8e7-4874864f174c"
      },
      "execution_count": 24,
      "outputs": [
        {
          "output_type": "stream",
          "name": "stdout",
          "text": [
            "0      92\n",
            "1      91\n",
            "2      90\n",
            "3      88\n",
            "4      88\n",
            "       ..\n",
            "435    44\n",
            "436    64\n",
            "437    69\n",
            "438    65\n",
            "439    68\n",
            "Name: Popularity, Length: 440, dtype: int64\n"
          ]
        }
      ]
    },
    {
      "cell_type": "code",
      "source": [
        "# To sort the data in Ascending Order\n",
        "data.sort_values(by='Popularity',ascending=True)"
      ],
      "metadata": {
        "colab": {
          "base_uri": "https://localhost:8080/",
          "height": 423
        },
        "id": "r-7sXbnMDCQw",
        "outputId": "1550e90e-9580-4938-cdbf-103610ac9abc"
      },
      "execution_count": 25,
      "outputs": [
        {
          "output_type": "execute_result",
          "data": {
            "text/plain": [
              "             Artist                     Track Name  Popularity  Duration (ms)  \\\n",
              "207          Pressa  Attachments (feat. Coi Leray)          29         171000   \n",
              "231   Justin Bieber                     Intentions          35         212853   \n",
              "435  French Montana                Splash Brothers          44         221863   \n",
              "413  French Montana                Splash Brothers          44         221863   \n",
              "225        Lil Baby                  On Me - Remix          47         135444   \n",
              "..              ...                            ...         ...            ...   \n",
              "30     Travis Scott     FE!N (feat. Playboi Carti)          93         191700   \n",
              "70        21 Savage                         redrum          96         270697   \n",
              "260              ¥$                       CARNIVAL          96         264324   \n",
              "280              ¥$                       CARNIVAL          96         264324   \n",
              "40      Jack Harlow                    Lovin On Me          97         138411   \n",
              "\n",
              "                   Track ID  \n",
              "207  6EfJ8Ct3GHbBz2YlyPnMYb  \n",
              "231  7jAVt70Xdg8EwOtsFB1ZqK  \n",
              "435  3fBsEOnzwtlkpS0LxXAZhN  \n",
              "413  3fBsEOnzwtlkpS0LxXAZhN  \n",
              "225  2uUFVnVFERNxUdcmvEs7LB  \n",
              "..                      ...  \n",
              "30   42VsgItocQwOQC3XWZ8JNA  \n",
              "70   52eIcoLUM25zbQupAZYoFh  \n",
              "260  3w0w2T288dec0mgeZZqoNN  \n",
              "280  3w0w2T288dec0mgeZZqoNN  \n",
              "40   4xhsWYTOGcal8zt0J161CU  \n",
              "\n",
              "[440 rows x 5 columns]"
            ],
            "text/html": [
              "\n",
              "  <div id=\"df-f89a39af-ac33-41b2-8d59-fabc7faa12fb\" class=\"colab-df-container\">\n",
              "    <div>\n",
              "<style scoped>\n",
              "    .dataframe tbody tr th:only-of-type {\n",
              "        vertical-align: middle;\n",
              "    }\n",
              "\n",
              "    .dataframe tbody tr th {\n",
              "        vertical-align: top;\n",
              "    }\n",
              "\n",
              "    .dataframe thead th {\n",
              "        text-align: right;\n",
              "    }\n",
              "</style>\n",
              "<table border=\"1\" class=\"dataframe\">\n",
              "  <thead>\n",
              "    <tr style=\"text-align: right;\">\n",
              "      <th></th>\n",
              "      <th>Artist</th>\n",
              "      <th>Track Name</th>\n",
              "      <th>Popularity</th>\n",
              "      <th>Duration (ms)</th>\n",
              "      <th>Track ID</th>\n",
              "    </tr>\n",
              "  </thead>\n",
              "  <tbody>\n",
              "    <tr>\n",
              "      <th>207</th>\n",
              "      <td>Pressa</td>\n",
              "      <td>Attachments (feat. Coi Leray)</td>\n",
              "      <td>29</td>\n",
              "      <td>171000</td>\n",
              "      <td>6EfJ8Ct3GHbBz2YlyPnMYb</td>\n",
              "    </tr>\n",
              "    <tr>\n",
              "      <th>231</th>\n",
              "      <td>Justin Bieber</td>\n",
              "      <td>Intentions</td>\n",
              "      <td>35</td>\n",
              "      <td>212853</td>\n",
              "      <td>7jAVt70Xdg8EwOtsFB1ZqK</td>\n",
              "    </tr>\n",
              "    <tr>\n",
              "      <th>435</th>\n",
              "      <td>French Montana</td>\n",
              "      <td>Splash Brothers</td>\n",
              "      <td>44</td>\n",
              "      <td>221863</td>\n",
              "      <td>3fBsEOnzwtlkpS0LxXAZhN</td>\n",
              "    </tr>\n",
              "    <tr>\n",
              "      <th>413</th>\n",
              "      <td>French Montana</td>\n",
              "      <td>Splash Brothers</td>\n",
              "      <td>44</td>\n",
              "      <td>221863</td>\n",
              "      <td>3fBsEOnzwtlkpS0LxXAZhN</td>\n",
              "    </tr>\n",
              "    <tr>\n",
              "      <th>225</th>\n",
              "      <td>Lil Baby</td>\n",
              "      <td>On Me - Remix</td>\n",
              "      <td>47</td>\n",
              "      <td>135444</td>\n",
              "      <td>2uUFVnVFERNxUdcmvEs7LB</td>\n",
              "    </tr>\n",
              "    <tr>\n",
              "      <th>...</th>\n",
              "      <td>...</td>\n",
              "      <td>...</td>\n",
              "      <td>...</td>\n",
              "      <td>...</td>\n",
              "      <td>...</td>\n",
              "    </tr>\n",
              "    <tr>\n",
              "      <th>30</th>\n",
              "      <td>Travis Scott</td>\n",
              "      <td>FE!N (feat. Playboi Carti)</td>\n",
              "      <td>93</td>\n",
              "      <td>191700</td>\n",
              "      <td>42VsgItocQwOQC3XWZ8JNA</td>\n",
              "    </tr>\n",
              "    <tr>\n",
              "      <th>70</th>\n",
              "      <td>21 Savage</td>\n",
              "      <td>redrum</td>\n",
              "      <td>96</td>\n",
              "      <td>270697</td>\n",
              "      <td>52eIcoLUM25zbQupAZYoFh</td>\n",
              "    </tr>\n",
              "    <tr>\n",
              "      <th>260</th>\n",
              "      <td>¥$</td>\n",
              "      <td>CARNIVAL</td>\n",
              "      <td>96</td>\n",
              "      <td>264324</td>\n",
              "      <td>3w0w2T288dec0mgeZZqoNN</td>\n",
              "    </tr>\n",
              "    <tr>\n",
              "      <th>280</th>\n",
              "      <td>¥$</td>\n",
              "      <td>CARNIVAL</td>\n",
              "      <td>96</td>\n",
              "      <td>264324</td>\n",
              "      <td>3w0w2T288dec0mgeZZqoNN</td>\n",
              "    </tr>\n",
              "    <tr>\n",
              "      <th>40</th>\n",
              "      <td>Jack Harlow</td>\n",
              "      <td>Lovin On Me</td>\n",
              "      <td>97</td>\n",
              "      <td>138411</td>\n",
              "      <td>4xhsWYTOGcal8zt0J161CU</td>\n",
              "    </tr>\n",
              "  </tbody>\n",
              "</table>\n",
              "<p>440 rows × 5 columns</p>\n",
              "</div>\n",
              "    <div class=\"colab-df-buttons\">\n",
              "\n",
              "  <div class=\"colab-df-container\">\n",
              "    <button class=\"colab-df-convert\" onclick=\"convertToInteractive('df-f89a39af-ac33-41b2-8d59-fabc7faa12fb')\"\n",
              "            title=\"Convert this dataframe to an interactive table.\"\n",
              "            style=\"display:none;\">\n",
              "\n",
              "  <svg xmlns=\"http://www.w3.org/2000/svg\" height=\"24px\" viewBox=\"0 -960 960 960\">\n",
              "    <path d=\"M120-120v-720h720v720H120Zm60-500h600v-160H180v160Zm220 220h160v-160H400v160Zm0 220h160v-160H400v160ZM180-400h160v-160H180v160Zm440 0h160v-160H620v160ZM180-180h160v-160H180v160Zm440 0h160v-160H620v160Z\"/>\n",
              "  </svg>\n",
              "    </button>\n",
              "\n",
              "  <style>\n",
              "    .colab-df-container {\n",
              "      display:flex;\n",
              "      gap: 12px;\n",
              "    }\n",
              "\n",
              "    .colab-df-convert {\n",
              "      background-color: #E8F0FE;\n",
              "      border: none;\n",
              "      border-radius: 50%;\n",
              "      cursor: pointer;\n",
              "      display: none;\n",
              "      fill: #1967D2;\n",
              "      height: 32px;\n",
              "      padding: 0 0 0 0;\n",
              "      width: 32px;\n",
              "    }\n",
              "\n",
              "    .colab-df-convert:hover {\n",
              "      background-color: #E2EBFA;\n",
              "      box-shadow: 0px 1px 2px rgba(60, 64, 67, 0.3), 0px 1px 3px 1px rgba(60, 64, 67, 0.15);\n",
              "      fill: #174EA6;\n",
              "    }\n",
              "\n",
              "    .colab-df-buttons div {\n",
              "      margin-bottom: 4px;\n",
              "    }\n",
              "\n",
              "    [theme=dark] .colab-df-convert {\n",
              "      background-color: #3B4455;\n",
              "      fill: #D2E3FC;\n",
              "    }\n",
              "\n",
              "    [theme=dark] .colab-df-convert:hover {\n",
              "      background-color: #434B5C;\n",
              "      box-shadow: 0px 1px 3px 1px rgba(0, 0, 0, 0.15);\n",
              "      filter: drop-shadow(0px 1px 2px rgba(0, 0, 0, 0.3));\n",
              "      fill: #FFFFFF;\n",
              "    }\n",
              "  </style>\n",
              "\n",
              "    <script>\n",
              "      const buttonEl =\n",
              "        document.querySelector('#df-f89a39af-ac33-41b2-8d59-fabc7faa12fb button.colab-df-convert');\n",
              "      buttonEl.style.display =\n",
              "        google.colab.kernel.accessAllowed ? 'block' : 'none';\n",
              "\n",
              "      async function convertToInteractive(key) {\n",
              "        const element = document.querySelector('#df-f89a39af-ac33-41b2-8d59-fabc7faa12fb');\n",
              "        const dataTable =\n",
              "          await google.colab.kernel.invokeFunction('convertToInteractive',\n",
              "                                                    [key], {});\n",
              "        if (!dataTable) return;\n",
              "\n",
              "        const docLinkHtml = 'Like what you see? Visit the ' +\n",
              "          '<a target=\"_blank\" href=https://colab.research.google.com/notebooks/data_table.ipynb>data table notebook</a>'\n",
              "          + ' to learn more about interactive tables.';\n",
              "        element.innerHTML = '';\n",
              "        dataTable['output_type'] = 'display_data';\n",
              "        await google.colab.output.renderOutput(dataTable, element);\n",
              "        const docLink = document.createElement('div');\n",
              "        docLink.innerHTML = docLinkHtml;\n",
              "        element.appendChild(docLink);\n",
              "      }\n",
              "    </script>\n",
              "  </div>\n",
              "\n",
              "\n",
              "<div id=\"df-85465f57-d747-4c67-be71-fac4565caf4d\">\n",
              "  <button class=\"colab-df-quickchart\" onclick=\"quickchart('df-85465f57-d747-4c67-be71-fac4565caf4d')\"\n",
              "            title=\"Suggest charts\"\n",
              "            style=\"display:none;\">\n",
              "\n",
              "<svg xmlns=\"http://www.w3.org/2000/svg\" height=\"24px\"viewBox=\"0 0 24 24\"\n",
              "     width=\"24px\">\n",
              "    <g>\n",
              "        <path d=\"M19 3H5c-1.1 0-2 .9-2 2v14c0 1.1.9 2 2 2h14c1.1 0 2-.9 2-2V5c0-1.1-.9-2-2-2zM9 17H7v-7h2v7zm4 0h-2V7h2v10zm4 0h-2v-4h2v4z\"/>\n",
              "    </g>\n",
              "</svg>\n",
              "  </button>\n",
              "\n",
              "<style>\n",
              "  .colab-df-quickchart {\n",
              "      --bg-color: #E8F0FE;\n",
              "      --fill-color: #1967D2;\n",
              "      --hover-bg-color: #E2EBFA;\n",
              "      --hover-fill-color: #174EA6;\n",
              "      --disabled-fill-color: #AAA;\n",
              "      --disabled-bg-color: #DDD;\n",
              "  }\n",
              "\n",
              "  [theme=dark] .colab-df-quickchart {\n",
              "      --bg-color: #3B4455;\n",
              "      --fill-color: #D2E3FC;\n",
              "      --hover-bg-color: #434B5C;\n",
              "      --hover-fill-color: #FFFFFF;\n",
              "      --disabled-bg-color: #3B4455;\n",
              "      --disabled-fill-color: #666;\n",
              "  }\n",
              "\n",
              "  .colab-df-quickchart {\n",
              "    background-color: var(--bg-color);\n",
              "    border: none;\n",
              "    border-radius: 50%;\n",
              "    cursor: pointer;\n",
              "    display: none;\n",
              "    fill: var(--fill-color);\n",
              "    height: 32px;\n",
              "    padding: 0;\n",
              "    width: 32px;\n",
              "  }\n",
              "\n",
              "  .colab-df-quickchart:hover {\n",
              "    background-color: var(--hover-bg-color);\n",
              "    box-shadow: 0 1px 2px rgba(60, 64, 67, 0.3), 0 1px 3px 1px rgba(60, 64, 67, 0.15);\n",
              "    fill: var(--button-hover-fill-color);\n",
              "  }\n",
              "\n",
              "  .colab-df-quickchart-complete:disabled,\n",
              "  .colab-df-quickchart-complete:disabled:hover {\n",
              "    background-color: var(--disabled-bg-color);\n",
              "    fill: var(--disabled-fill-color);\n",
              "    box-shadow: none;\n",
              "  }\n",
              "\n",
              "  .colab-df-spinner {\n",
              "    border: 2px solid var(--fill-color);\n",
              "    border-color: transparent;\n",
              "    border-bottom-color: var(--fill-color);\n",
              "    animation:\n",
              "      spin 1s steps(1) infinite;\n",
              "  }\n",
              "\n",
              "  @keyframes spin {\n",
              "    0% {\n",
              "      border-color: transparent;\n",
              "      border-bottom-color: var(--fill-color);\n",
              "      border-left-color: var(--fill-color);\n",
              "    }\n",
              "    20% {\n",
              "      border-color: transparent;\n",
              "      border-left-color: var(--fill-color);\n",
              "      border-top-color: var(--fill-color);\n",
              "    }\n",
              "    30% {\n",
              "      border-color: transparent;\n",
              "      border-left-color: var(--fill-color);\n",
              "      border-top-color: var(--fill-color);\n",
              "      border-right-color: var(--fill-color);\n",
              "    }\n",
              "    40% {\n",
              "      border-color: transparent;\n",
              "      border-right-color: var(--fill-color);\n",
              "      border-top-color: var(--fill-color);\n",
              "    }\n",
              "    60% {\n",
              "      border-color: transparent;\n",
              "      border-right-color: var(--fill-color);\n",
              "    }\n",
              "    80% {\n",
              "      border-color: transparent;\n",
              "      border-right-color: var(--fill-color);\n",
              "      border-bottom-color: var(--fill-color);\n",
              "    }\n",
              "    90% {\n",
              "      border-color: transparent;\n",
              "      border-bottom-color: var(--fill-color);\n",
              "    }\n",
              "  }\n",
              "</style>\n",
              "\n",
              "  <script>\n",
              "    async function quickchart(key) {\n",
              "      const quickchartButtonEl =\n",
              "        document.querySelector('#' + key + ' button');\n",
              "      quickchartButtonEl.disabled = true;  // To prevent multiple clicks.\n",
              "      quickchartButtonEl.classList.add('colab-df-spinner');\n",
              "      try {\n",
              "        const charts = await google.colab.kernel.invokeFunction(\n",
              "            'suggestCharts', [key], {});\n",
              "      } catch (error) {\n",
              "        console.error('Error during call to suggestCharts:', error);\n",
              "      }\n",
              "      quickchartButtonEl.classList.remove('colab-df-spinner');\n",
              "      quickchartButtonEl.classList.add('colab-df-quickchart-complete');\n",
              "    }\n",
              "    (() => {\n",
              "      let quickchartButtonEl =\n",
              "        document.querySelector('#df-85465f57-d747-4c67-be71-fac4565caf4d button');\n",
              "      quickchartButtonEl.style.display =\n",
              "        google.colab.kernel.accessAllowed ? 'block' : 'none';\n",
              "    })();\n",
              "  </script>\n",
              "</div>\n",
              "\n",
              "    </div>\n",
              "  </div>\n"
            ],
            "application/vnd.google.colaboratory.intrinsic+json": {
              "type": "dataframe",
              "summary": "{\n  \"name\": \"data\",\n  \"rows\": 440,\n  \"fields\": [\n    {\n      \"column\": \"Artist\",\n      \"properties\": {\n        \"dtype\": \"category\",\n        \"num_unique_values\": 115,\n        \"samples\": [\n          \"Rauw Alejandro\",\n          \"Wyclef Jean\",\n          \"*NSYNC\"\n        ],\n        \"semantic_type\": \"\",\n        \"description\": \"\"\n      }\n    },\n    {\n      \"column\": \"Track Name\",\n      \"properties\": {\n        \"dtype\": \"string\",\n        \"num_unique_values\": 412,\n        \"samples\": [\n          \"VULTURES\",\n          \"You Only Live Twice (with Lil Wayne & Rick Ross)\",\n          \"SKITZO (feat. Young Thug)\"\n        ],\n        \"semantic_type\": \"\",\n        \"description\": \"\"\n      }\n    },\n    {\n      \"column\": \"Popularity\",\n      \"properties\": {\n        \"dtype\": \"number\",\n        \"std\": 9,\n        \"min\": 29,\n        \"max\": 97,\n        \"num_unique_values\": 51,\n        \"samples\": [\n          88,\n          85,\n          91\n        ],\n        \"semantic_type\": \"\",\n        \"description\": \"\"\n      }\n    },\n    {\n      \"column\": \"Duration (ms)\",\n      \"properties\": {\n        \"dtype\": \"number\",\n        \"std\": 53576,\n        \"min\": 81666,\n        \"max\": 501648,\n        \"num_unique_values\": 410,\n        \"samples\": [\n          198944,\n          172714,\n          138760\n        ],\n        \"semantic_type\": \"\",\n        \"description\": \"\"\n      }\n    },\n    {\n      \"column\": \"Track ID\",\n      \"properties\": {\n        \"dtype\": \"string\",\n        \"num_unique_values\": 413,\n        \"samples\": [\n          \"2Hh3ETdQKrmSI3QS0hme7g\",\n          \"1bDbXMyjaUIooNwFE9wn0N\",\n          \"6XbtvPmIpyCbjuT0e8cQtp\"\n        ],\n        \"semantic_type\": \"\",\n        \"description\": \"\"\n      }\n    }\n  ]\n}"
            }
          },
          "metadata": {},
          "execution_count": 25
        }
      ]
    },
    {
      "cell_type": "code",
      "source": [
        "# Search for rows where 'Artist' contains 'Post Malone'\n",
        "result = data[data['Artist'].str.contains('Post Malone')]\n",
        "print(result)"
      ],
      "metadata": {
        "colab": {
          "base_uri": "https://localhost:8080/"
        },
        "id": "iDpq6diZDQ1N",
        "outputId": "3643e7bc-530d-48b4-d1c0-bd00a2089782"
      },
      "execution_count": 30,
      "outputs": [
        {
          "output_type": "stream",
          "name": "stdout",
          "text": [
            "          Artist                                     Track Name  Popularity  \\\n",
            "10   Post Malone  Sunflower - Spider-Man: Into the Spider-Verse          87   \n",
            "11   Post Malone                                        Circles          88   \n",
            "13   Post Malone                                       Chemical          85   \n",
            "14   Post Malone                     rockstar (feat. 21 Savage)          85   \n",
            "15   Post Malone                                Congratulations          84   \n",
            "16   Post Malone    I Like You (A Happier Song) (with Doja Cat)          84   \n",
            "17   Post Malone                                           Wow.          84   \n",
            "18   Post Malone                                     Better Now          83   \n",
            "210  Post Malone  Sunflower - Spider-Man: Into the Spider-Verse          87   \n",
            "\n",
            "     Duration (ms)                Track ID  \n",
            "10          157560  0RiRZpuVRbi7oqRdSMwhQY  \n",
            "11          215280  21jGcNKet2qwijlDFuPiPb  \n",
            "13          184013  5w40ZYhbBMAlHYNDaVJIUu  \n",
            "14          218146  0e7ipj03S05BNilyu5bRzt  \n",
            "15          220293  3a1lNhkSLSkpJE4MSHpDu9  \n",
            "16          192840  0O6u0VJ46W86TxN9wgyqDj  \n",
            "17          149546  7xQAfvXzm3AkraOtGPWIZg  \n",
            "18          231266  7dt6x5M1jzdTEt8oCbisTK  \n",
            "210         157560  0RiRZpuVRbi7oqRdSMwhQY  \n"
          ]
        }
      ]
    },
    {
      "cell_type": "code",
      "source": [
        "# Define a custom function to search for rows with 'Popularity' greater than 50000 and 'Duration (ms)' less than 300000\n",
        "def custom_search(row):\n",
        "    return row['Popularity'] > 50 and row['Duration (ms)'] < 300000\n",
        "\n",
        "# Apply the custom function to filter rows\n",
        "result = data[data.apply(custom_search, axis=1)]\n",
        "print(result.head)"
      ],
      "metadata": {
        "colab": {
          "base_uri": "https://localhost:8080/"
        },
        "id": "vXc0b-VBFU_I",
        "outputId": "22957e06-b15e-49d4-93e1-9b00d6b909a4"
      },
      "execution_count": 33,
      "outputs": [
        {
          "output_type": "stream",
          "name": "stdout",
          "text": [
            "<bound method NDFrame.head of            Artist                                         Track Name  \\\n",
            "1           Drake                                          One Dance   \n",
            "2           Drake                                 IDGAF (feat. Yeat)   \n",
            "3           Drake               First Person Shooter (feat. J. Cole)   \n",
            "4           Drake                      Jimmy Cooks (feat. 21 Savage)   \n",
            "5           Drake                                         God's Plan   \n",
            "..            ...                                                ...   \n",
            "434  Jason Derulo                     Tip Toe (feat. French Montana)   \n",
            "436       Fat Joe                     All The Way Up (feat. Infared)   \n",
            "437     A$AP Ferg  Work REMIX (feat. A$AP Rocky, French Montana, ...   \n",
            "438         Diddy                Another One Of Me (feat. 21 Savage)   \n",
            "439     Rick Ross                                       Stay Schemin   \n",
            "\n",
            "     Popularity  Duration (ms)                Track ID  \n",
            "1            91         173986  1zi7xx7UVEFkmKfv06H8x0  \n",
            "2            90         260111  2YSzYUF3jWqb9YP9VXmpjE  \n",
            "3            88         247444  7aqfrAY2p9BUSiupwk3svU  \n",
            "4            88         218364  3F5CgOj3wFlRv51JsHbxhe  \n",
            "5            87         198973  6DCZcSspjsKoFjzjrWoCdn  \n",
            "..          ...            ...                     ...  \n",
            "434          65         187521  0TY3jVGwGDwDabLyQLVRQQ  \n",
            "436          64         191900  7Ezwtgfw7khBrpvaNPtMoT  \n",
            "437          69         283693  7xVLFuuYdAvcTfcP3IG3dS  \n",
            "438          65         220408  4hGmQboiou09EwhcTWa0H6  \n",
            "439          68         267720  0nq6sfr8z1R5KJ4XUk396e  \n",
            "\n",
            "[416 rows x 5 columns]>\n"
          ]
        }
      ]
    },
    {
      "cell_type": "code",
      "source": [
        "# Using Group By function\n",
        "# Group the DataFrame by 'Duration (ms)' and calculate aggregate statistics\n",
        "Duration_stats = data.groupby('Duration (ms)').agg({\n",
        "    'Popularity': ['mean', 'median', 'min', 'max'],\n",
        "})\n",
        "\n",
        "# Display the aggregated statistics for each Duration (ms) level\n",
        "print(\"Aggregate Statistics by Duration (ms) Level:\")\n",
        "print(Duration_stats)"
      ],
      "metadata": {
        "colab": {
          "base_uri": "https://localhost:8080/"
        },
        "id": "znQkSRXWHqNr",
        "outputId": "18b47a91-c46d-4f53-ea92-a457b0acfbc4"
      },
      "execution_count": 50,
      "outputs": [
        {
          "output_type": "stream",
          "name": "stdout",
          "text": [
            "Aggregate Statistics by Duration (ms) Level:\n",
            "              Popularity               \n",
            "                    mean median min max\n",
            "Duration (ms)                          \n",
            "81666               73.0   73.0  73  73\n",
            "89741               79.0   79.0  79  79\n",
            "96013               75.0   75.0  75  75\n",
            "97392               83.0   83.0  83  83\n",
            "104819              70.0   70.0  70  70\n",
            "...                  ...    ...  ..  ..\n",
            "357706              77.0   77.0  77  77\n",
            "366592              78.0   78.0  78  78\n",
            "386906              82.0   82.0  82  82\n",
            "404106              84.0   84.0  84  84\n",
            "501648              64.0   64.0  64  64\n",
            "\n",
            "[410 rows x 4 columns]\n"
          ]
        }
      ]
    },
    {
      "cell_type": "markdown",
      "source": [
        "##Step 6: Data Visualisation"
      ],
      "metadata": {
        "id": "KjTbaRQNKr-I"
      }
    },
    {
      "cell_type": "code",
      "source": [
        "print(data.columns)\n",
        "\n",
        "# To create a Dataframe object to hold the data in a tabular format\n",
        "df = pd.DataFrame(data.head(20))"
      ],
      "metadata": {
        "colab": {
          "base_uri": "https://localhost:8080/"
        },
        "id": "cmjCVyJoKyjL",
        "outputId": "11bfd9bd-f126-496e-cd00-c226c9da4faf"
      },
      "execution_count": 40,
      "outputs": [
        {
          "output_type": "stream",
          "name": "stdout",
          "text": [
            "Index(['Artist', 'Track Name', 'Popularity', 'Duration (ms)', 'Track ID'], dtype='object')\n"
          ]
        }
      ]
    },
    {
      "cell_type": "code",
      "source": [
        "# Generate a pie chart to visualize the distribution of values in the 'Duration (ms)' column\n",
        "df['Duration (ms)'].value_counts().plot(kind='pie', autopct='%1.1f%%')\n",
        "\n",
        "# Add a title to the pie chart indicating the variable being visualized\n",
        "plt.title(\"Duration (ms)\")\n",
        "\n",
        "# Display the pie chart\n",
        "plt.show()"
      ],
      "metadata": {
        "colab": {
          "base_uri": "https://localhost:8080/",
          "height": 428
        },
        "id": "JHpKXWnHK7me",
        "outputId": "0b3998ec-529c-483f-b7f8-5650cd114b67"
      },
      "execution_count": 41,
      "outputs": [
        {
          "output_type": "display_data",
          "data": {
            "text/plain": [
              "<Figure size 640x480 with 1 Axes>"
            ],
            "image/png": "[encoded data removed]"
          },
          "metadata": {}
        }
      ]
    },
    {
      "cell_type": "code",
      "source": [
        "# Generate a bar chart to visualize the distribution of values in the 'Popularity' column\n",
        "df['Popularity'].value_counts().plot(kind='bar', color='green')\n",
        "\n",
        "# Add a label to the x-axis indicating the variable being visualized\n",
        "plt.xlabel('Number of Popularity')\n",
        "\n",
        "# Add a label to the y-axis indicating the count of each value\n",
        "plt.ylabel('Count')\n",
        "\n",
        "# Add a title to the bar chart indicating the purpose of the visualization\n",
        "plt.title('Distribution of Number of Popularity')\n",
        "\n",
        "# Display the bar chart\n",
        "plt.show()"
      ],
      "metadata": {
        "colab": {
          "base_uri": "https://localhost:8080/",
          "height": 475
        },
        "id": "WG_lGqxCLNr6",
        "outputId": "1d6c1d5d-7d9d-4296-c1c6-246c17f39b0b"
      },
      "execution_count": 43,
      "outputs": [
        {
          "output_type": "display_data",
          "data": {
            "text/plain": [
              "<Figure size 640x480 with 1 Axes>"
            ],
            "image/png": "[encoded data removed]"
          },
          "metadata": {}
        }
      ]
    },
    {
      "cell_type": "code",
      "source": [
        "# Generate a horizontal bar chart to visualize the distribution of values in the 'Duration (ms)' column\n",
        "df['Duration (ms)'].value_counts().plot(kind='barh', color='yellow')\n",
        "\n",
        "# Add a label to the x-axis indicating the count of each value\n",
        "plt.xlabel('Count')\n",
        "\n",
        "# Add a label to the y-axis indicating the variable being visualized\n",
        "plt.ylabel('Duration (ms) Level')\n",
        "\n",
        "# Add a title to the horizontal bar chart indicating the purpose of the visualization\n",
        "plt.title('Distribution of Duration (ms) Levels')\n",
        "\n",
        "# Display the horizontal bar chart\n",
        "plt.show()"
      ],
      "metadata": {
        "colab": {
          "base_uri": "https://localhost:8080/",
          "height": 472
        },
        "id": "IpMIfQwELpFI",
        "outputId": "8bf80244-b8ef-4388-d4fd-c656c0121356"
      },
      "execution_count": 44,
      "outputs": [
        {
          "output_type": "display_data",
          "data": {
            "text/plain": [
              "<Figure size 640x480 with 1 Axes>"
            ],
            "image/png": "[encoded data removed]"
          },
          "metadata": {}
        }
      ]
    },
    {
      "cell_type": "code",
      "source": [
        "# Sort the DataFrame by the 'Duration (ms)' column to ensure the data is plotted in chronological order\n",
        "df.sort_values(by='Duration (ms)', inplace=True)\n",
        "\n",
        "# Plot a line chart to visualize the trend of 'Popularity' over time\n",
        "plt.plot(df['Duration (ms)'], df['Popularity'], color='red', marker='o', linestyle='-')\n",
        "\n",
        "# Add a label to the x-axis indicating the date of Duration (ms)\n",
        "plt.xlabel('Date of Duration (ms)')\n",
        "\n",
        "# Add a label to the y-axis indicating the income\n",
        "plt.ylabel('Popularity')\n",
        "\n",
        "# Add a title to the line chart indicating the purpose of the visualization\n",
        "plt.title('Trend of Popularity ')\n",
        "\n",
        "# Rotate x-axis labels by 45 degrees for better readability\n",
        "plt.xticks(rotation=45)\n",
        "\n",
        "# Add grid lines to the plot for better visualization\n",
        "plt.grid(True)\n",
        "\n",
        "# Display the line chart\n",
        "plt.show()\n"
      ],
      "metadata": {
        "colab": {
          "base_uri": "https://localhost:8080/",
          "height": 505
        },
        "id": "y59WPH-8L-UU",
        "outputId": "3b7ed08b-e34d-4cec-b628-8825c1fcfa67"
      },
      "execution_count": 46,
      "outputs": [
        {
          "output_type": "display_data",
          "data": {
            "text/plain": [
              "<Figure size 640x480 with 1 Axes>"
            ],
            "image/png": "[encoded data removed]"
          },
          "metadata": {}
        }
      ]
    },
    {
      "cell_type": "code",
      "source": [
        "# Generate a histogram to visualize the distribution of values in the 'Popularity' column\n",
        "plt.hist(df['Popularity'], bins=20, color='green', edgecolor='black')\n",
        "\n",
        "# Add a label to the x-axis indicating the variable being visualized\n",
        "plt.xlabel('Popularity')\n",
        "\n",
        "# Add a label to the y-axis indicating the frequency of observations\n",
        "plt.ylabel('Frequency')\n",
        "\n",
        "# Add a title to the histogram indicating the purpose of the visualization\n",
        "plt.title('Distribution of Popularity')\n",
        "\n",
        "# Add grid lines to the histogram for better visualization\n",
        "plt.grid(True)\n",
        "\n",
        "# Display the histogram\n",
        "plt.show()"
      ],
      "metadata": {
        "colab": {
          "base_uri": "https://localhost:8080/",
          "height": 472
        },
        "id": "pDd4msSDM57O",
        "outputId": "a251fd22-f9f4-49fc-ff2d-f71081b81e7d"
      },
      "execution_count": 47,
      "outputs": [
        {
          "output_type": "display_data",
          "data": {
            "text/plain": [
              "<Figure size 640x480 with 1 Axes>"
            ],
            "image/png": "[encoded data removed]"
          },
          "metadata": {}
        }
      ]
    },
    {
      "cell_type": "code",
      "source": [
        "# Generate a scatter plot to visualize the relationship between 'Popularity' and 'Duration (ms)'\n",
        "plt.scatter(df['Popularity'], df['Duration (ms)'], color='blue', alpha=0.5)\n",
        "\n",
        "# Add a label to the x-axis indicating the variable being visualized\n",
        "plt.xlabel('Popularity')\n",
        "\n",
        "# Add a label to the y-axis indicating the variable being visualized\n",
        "plt.ylabel('Duration (ms)')\n",
        "\n",
        "# Add a title to the scatter plot indicating the purpose of the visualization\n",
        "plt.title('Scatter Plot: Popularity vs. Duration (ms)')\n",
        "\n",
        "# Add grid lines to the scatter plot for better visualization\n",
        "plt.grid(True)\n",
        "\n",
        "# Display the scatter plot\n",
        "plt.show()"
      ],
      "metadata": {
        "colab": {
          "base_uri": "https://localhost:8080/",
          "height": 472
        },
        "id": "-OZJ6vveNSf-",
        "outputId": "b6675a1c-be7f-4041-83e8-a3223db1e86a"
      },
      "execution_count": 48,
      "outputs": [
        {
          "output_type": "display_data",
          "data": {
            "text/plain": [
              "<Figure size 640x480 with 1 Axes>"
            ],
            "image/png": "[encoded data removed]"
          },
          "metadata": {}
        }
      ]
    },
    {
      "cell_type": "markdown",
      "source": [
        "##conclusion\n",
        "The analysis of the HipHop Artists Dataset reveals a diverse landscape within the genre. Artists like Drake, Travis Scott, and Post Malone dominate the popularity charts with multiple tracks scoring high. Collaboration is a key theme, with artists frequently teaming up for chart-topping hits. Additionally, there's a notable presence of emerging artists like Jack Harlow and Yeat, indicating a dynamic and evolving scene. Overall, the dataset showcases the genre's wide range of styles and the collaborative spirit that defines it."
      ],
      "metadata": {
        "id": "fAUpZFxbRzN4"
      }
    },
    {
      "cell_type": "code",
      "source": [
        "from google.colab import drive\n",
        "drive.mount('/content/drive')"
      ],
      "metadata": {
        "id": "cdw9-7bi9ofU"
      },
      "execution_count": null,
      "outputs": []
    },
    {
      "cell_type": "markdown",
      "source": [],
      "metadata": {
        "id": "CCVDcUUS6DTV"
      }
    }
  ]
}